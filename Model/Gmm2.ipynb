{
 "cells": [
  {
   "cell_type": "code",
   "execution_count": 47,
   "metadata": {
    "collapsed": true,
    "pycharm": {
     "name": "#%%\n"
    }
   },
   "outputs": [],
   "source": [
    "import librosa\n",
    "import soundfile as sf\n",
    "import os\n",
    "from IPython.display import Audio\n",
    "import matplotlib.pyplot as plt\n",
    "import numpy as np\n",
    "from scipy.fftpack import rfft, irfft, fftfreq, fft, rfftfreq, ifft\n",
    "from scipy import signal\n",
    "import pandas as pd\n",
    "from sklearn.preprocessing import MinMaxScaler\n",
    "from sklearn.preprocessing import StandardScaler\n",
    "from sklearn.impute import SimpleImputer\n",
    "from sklearn.model_selection import train_test_split\n",
    "from sklearn import svm\n",
    "from sklearn.metrics import accuracy_score\n",
    "from sklearn.tree import DecisionTreeClassifier\n",
    "from sklearn.naive_bayes import GaussianNB\n",
    "from sklearn.linear_model import SGDClassifier, LogisticRegression\n",
    "from sklearn.neighbors import KNeighborsClassifier\n",
    "from sklearn.tree import DecisionTreeClassifier\n",
    "from sklearn.ensemble import RandomForestClassifier\n",
    "from sklearn.svm import SVC\n",
    "from sklearn.neural_network import MLPClassifier\n",
    "import seaborn as sb\n",
    "\n",
    "from sklearn.metrics import confusion_matrix, accuracy_score, roc_auc_score, roc_curve\n",
    "from sklearn import preprocessing\n",
    "from sklearn.model_selection import train_test_split\n",
    "from sklearn.feature_selection import RFE\n",
    "from sklearn.metrics import silhouette_score\n",
    "from sklearn.mixture import GaussianMixture as GMM"
   ]
  },
  {
   "cell_type": "code",
   "execution_count": 48,
   "outputs": [],
   "source": [
    "def train(csvs):\n",
    "    models = list()\n",
    "    for csv in csvs:\n",
    "        df = pd.read_csv(csv)\n",
    "        X = df.drop(columns='label', axis=1)\n",
    "\n",
    "\n",
    "        cols = X.columns\n",
    "        X = df.drop(columns=[cols[0],'label'], axis=1)\n",
    "        cols = X.columns\n",
    "        min_max_scaler = preprocessing.MinMaxScaler()\n",
    "        np_scaled = min_max_scaler.fit_transform(X)\n",
    "        # new data frame with the new scaled data.\n",
    "        X = pd.DataFrame(np_scaled, columns=cols)\n",
    "        gmm = GMM(n_components=8).fit(X)\n",
    "        models.append(gmm)\n",
    "\n",
    "    return models\n"
   ],
   "metadata": {
    "collapsed": false,
    "pycharm": {
     "name": "#%%\n"
    }
   }
  },
  {
   "cell_type": "code",
   "execution_count": 49,
   "outputs": [],
   "source": [
    "def score(models, audio_path):\n",
    "\n",
    "    audio, sr = librosa.load(audio_path, duration=2)\n",
    "    audio = librosa.effects.trim(audio)\n",
    "    audio = audio[0]\n",
    "\n",
    "    features = [librosa.feature.chroma_stft(y=audio, sr=sr).mean(), librosa.feature.chroma_stft(y=audio, sr=sr).var(),\n",
    "                librosa.feature.rms(y=audio).mean(), librosa.feature.rms(y=audio).var(),\n",
    "                librosa.feature.spectral_centroid(y=audio).mean(),librosa.feature.spectral_centroid(y=audio).var(),\n",
    "                librosa.feature.spectral_bandwidth(y=audio).mean(),librosa.feature.spectral_bandwidth(y=audio).var(),\n",
    "                librosa.feature.spectral_rolloff(y=audio).mean(),librosa.feature.spectral_rolloff(y=audio).var()]\n",
    "\n",
    "    mfcc = librosa.feature.mfcc(y=audio)\n",
    "    mfcc_list = []\n",
    "    for i in range(len(mfcc)):\n",
    "         mfcc_list.append(mfcc[i].mean())\n",
    "\n",
    "\n",
    "    features = features + mfcc_list\n",
    "    score_list = np.zeros(len(models))\n",
    "    for i in range(len(models)):\n",
    "        out = np.array(models[i].score([features]))\n",
    "        score_list[i] = out.sum()\n",
    "\n",
    "        # score_list.append(model.score([features]))\n",
    "    return score_list"
   ],
   "metadata": {
    "collapsed": false,
    "pycharm": {
     "name": "#%%\n"
    }
   }
  },
  {
   "cell_type": "code",
   "execution_count": 54,
   "outputs": [
    {
     "name": "stdout",
     "output_type": "stream",
     "text": [
      "[-4.61565422e+18 -4.31904848e+18 -3.77256385e+18 -4.28236374e+18]\n",
      "2\n"
     ]
    },
    {
     "name": "stderr",
     "output_type": "stream",
     "text": [
      "C:\\Users\\I1bra\\anaconda3\\lib\\site-packages\\sklearn\\base.py:450: UserWarning: X does not have valid feature names, but GaussianMixture was fitted with feature names\n",
      "  warnings.warn(\n",
      "C:\\Users\\I1bra\\anaconda3\\lib\\site-packages\\sklearn\\base.py:450: UserWarning: X does not have valid feature names, but GaussianMixture was fitted with feature names\n",
      "  warnings.warn(\n",
      "C:\\Users\\I1bra\\anaconda3\\lib\\site-packages\\sklearn\\base.py:450: UserWarning: X does not have valid feature names, but GaussianMixture was fitted with feature names\n",
      "  warnings.warn(\n",
      "C:\\Users\\I1bra\\anaconda3\\lib\\site-packages\\sklearn\\base.py:450: UserWarning: X does not have valid feature names, but GaussianMixture was fitted with feature names\n",
      "  warnings.warn(\n"
     ]
    }
   ],
   "source": [
    "csvs = ['Mariam.csv','Amr.csv','Momen.csv','ibrahim.csv']\n",
    "models = train(csvs)\n",
    "myScoreList = score(models, 'D:/My PC/Projects/DSP/Voice-Recognition-System/Model/Website Data/Ibrahim/10.wav')\n",
    "print(myScoreList)\n",
    "winner = np.argmax(myScoreList)\n",
    "print(winner)"
   ],
   "metadata": {
    "collapsed": false,
    "pycharm": {
     "name": "#%%\n"
    }
   }
  },
  {
   "cell_type": "code",
   "execution_count": 50,
   "outputs": [],
   "source": [],
   "metadata": {
    "collapsed": false,
    "pycharm": {
     "name": "#%%\n"
    }
   }
  }
 ],
 "metadata": {
  "kernelspec": {
   "display_name": "Python 3",
   "language": "python",
   "name": "python3"
  },
  "language_info": {
   "codemirror_mode": {
    "name": "ipython",
    "version": 2
   },
   "file_extension": ".py",
   "mimetype": "text/x-python",
   "name": "python",
   "nbconvert_exporter": "python",
   "pygments_lexer": "ipython2",
   "version": "2.7.6"
  }
 },
 "nbformat": 4,
 "nbformat_minor": 0
}