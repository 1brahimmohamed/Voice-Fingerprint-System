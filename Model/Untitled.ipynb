{
 "cells": [
  {
   "cell_type": "code",
   "execution_count": 3,
   "id": "38406e32",
   "metadata": {},
   "outputs": [],
   "source": [
    "import librosa\n",
    "import soundfile as sf\n",
    "import os"
   ]
  },
  {
   "cell_type": "code",
   "execution_count": 7,
   "id": "f0823abe",
   "metadata": {},
   "outputs": [],
   "source": [
    "flist = os.listdir(\"C:/Users/amrom/Downloads/New folder (3)\")"
   ]
  },
  {
   "cell_type": "code",
   "execution_count": 10,
   "id": "af8f5e35",
   "metadata": {},
   "outputs": [],
   "source": [
    "for f in flist:\n",
    "    audio, sr = librosa.load(f\"C:/Users/amrom/Downloads/New folder (3)/{f}\")\n",
    "\n",
    "    # Get number of samples for 2 seconds; replace 2 by any number\n",
    "    buffer = 2 * sr\n",
    "\n",
    "    samples_total = len(audio)\n",
    "    samples_wrote = 0\n",
    "    counter = 1\n",
    "\n",
    "    while samples_wrote < samples_total:\n",
    "\n",
    "        #check if the buffer is not exceeding total samples \n",
    "        if buffer > (samples_total - samples_wrote):\n",
    "            buffer = samples_total - samples_wrote\n",
    "\n",
    "        block = audio[samples_wrote : (samples_wrote + buffer)]\n",
    "        out_filename = \"split_\" + str(counter) + \"_\" + f\n",
    "\n",
    "        # Write 2 second segment\n",
    "        sf.write(f\"C:/Users/amrom/Downloads/New folder (4)/{out_filename}\", block, sr)\n",
    "        counter += 1\n",
    "        samples_wrote += buffer\n",
    "        "
   ]
  },
  {
   "cell_type": "code",
   "execution_count": null,
   "id": "fcacf19a",
   "metadata": {},
   "outputs": [],
   "source": []
  }
 ],
 "metadata": {
  "kernelspec": {
   "display_name": "Python 3 (ipykernel)",
   "language": "python",
   "name": "python3"
  },
  "language_info": {
   "codemirror_mode": {
    "name": "ipython",
    "version": 3
   },
   "file_extension": ".py",
   "mimetype": "text/x-python",
   "name": "python",
   "nbconvert_exporter": "python",
   "pygments_lexer": "ipython3",
   "version": "3.10.9"
  }
 },
 "nbformat": 4,
 "nbformat_minor": 5
}
