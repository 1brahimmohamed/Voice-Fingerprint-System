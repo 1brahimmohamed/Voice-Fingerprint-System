{
 "cells": [
  {
   "cell_type": "code",
   "execution_count": 56,
   "id": "f14ebf05",
   "metadata": {},
   "outputs": [],
   "source": [
    "import pandas as pd\n",
    "import python_speech_features as mfcc\n",
    "import os\n",
    "import matplotlib.pyplot as plt\n",
    "from scipy.io.wavfile import read\n",
    "from sklearn import preprocessing\n",
    "from mpl_toolkits import mplot3d\n",
    "import librosa\n",
    "import plotly.express as px\n"
   ]
  },
  {
   "cell_type": "code",
   "execution_count": 117,
   "id": "d7fec5e5",
   "metadata": {},
   "outputs": [
    {
     "data": {
      "image/png": "[encoded data removed]",
      "text/plain": [
       "<Figure size 640x480 with 1 Axes>"
      ]
     },
     "metadata": {},
     "output_type": "display_data"
    }
   ],
   "source": [
    "amr = \"Website Data/Amr\"\n",
    "ibrahim = \"C:/Users/dell/Documents/GitHub/Voice-Recognition-System/Model/Website Data/Ibrahim\"\n",
    "Momen = \"C:/Users/dell/Documents/GitHub/Voice-Recognition-System/Model/Website Data/Momen\"\n",
    "Mariam = \"C:/Users/dell/Documents/GitHub/Voice-Recognition-System/Model/Website Data/Mariam\"\n",
    "directories = [Mariam,  ibrahim,Momen,amr]\n",
    "names = [\"Mariam\",  \"ibrahim\",\"Momen\",\"amr\"]\n",
    "color = [\"red\",\"blue\",\"green\",\"yellow\"]\n",
    "averages = [[],[],[],[]]\n",
    "df = pd.DataFrame({\"avg\":[],\"color\":[]})\n",
    "\n",
    "for i in range(len(directories)):\n",
    "    \n",
    "    count = 0\n",
    "\n",
    "    lis = os.listdir(directories[i])\n",
    "    for n in lis:\n",
    "        if count >9:\n",
    "            break\n",
    "        sr, audio = read(directories[i]+'/'+n)\n",
    "        mfcc_feature = mfcc.mfcc(audio, sr, 0.025, 0.01, 20, nfft=1200, appendEnergy=True)\n",
    "\n",
    "\n",
    "        for arr in mfcc_feature:\n",
    "            averages[i].append(arr.mean())\n",
    "            df.loc[len(df)] = [arr.mean(),names[i]]\n",
    "\n",
    "        count +=1\n",
    "        \n",
    "plt.hist(averages[3],color = color[3], bins=100)\n",
    "plt.hist(averages[1],color =color[1], bins=100)\n",
    "plt.hist(averages[2],color =color[2], bins=100)\n",
    "plt.hist(averages[0],color =color[0], bins=100)\n",
    "\n",
    "df.to_csv('GfG.csv', index = False)\n",
    "\n",
    "\n"
   ]
  },
  {
   "cell_type": "code",
   "execution_count": 118,
   "id": "e47131d7",
   "metadata": {},
   "outputs": [
    {
     "data": {
      "text/html": [
       "<div>\n",
       "<style scoped>\n",
       "    .dataframe tbody tr th:only-of-type {\n",
       "        vertical-align: middle;\n",
       "    }\n",
       "\n",
       "    .dataframe tbody tr th {\n",
       "        vertical-align: top;\n",
       "    }\n",
       "\n",
       "    .dataframe thead th {\n",
       "        text-align: right;\n",
       "    }\n",
       "</style>\n",
       "<table border=\"1\" class=\"dataframe\">\n",
       "  <thead>\n",
       "    <tr style=\"text-align: right;\">\n",
       "      <th></th>\n",
       "      <th>avg</th>\n",
       "      <th>color</th>\n",
       "    </tr>\n",
       "  </thead>\n",
       "  <tbody>\n",
       "    <tr>\n",
       "      <th>0</th>\n",
       "      <td>-1.391623</td>\n",
       "      <td>Mariam</td>\n",
       "    </tr>\n",
       "    <tr>\n",
       "      <th>1</th>\n",
       "      <td>-4.028828</td>\n",
       "      <td>Mariam</td>\n",
       "    </tr>\n",
       "    <tr>\n",
       "      <th>2</th>\n",
       "      <td>-3.932844</td>\n",
       "      <td>Mariam</td>\n",
       "    </tr>\n",
       "    <tr>\n",
       "      <th>3</th>\n",
       "      <td>-2.421361</td>\n",
       "      <td>Mariam</td>\n",
       "    </tr>\n",
       "    <tr>\n",
       "      <th>4</th>\n",
       "      <td>-3.587060</td>\n",
       "      <td>Mariam</td>\n",
       "    </tr>\n",
       "    <tr>\n",
       "      <th>...</th>\n",
       "      <td>...</td>\n",
       "      <td>...</td>\n",
       "    </tr>\n",
       "    <tr>\n",
       "      <th>10355</th>\n",
       "      <td>-4.059544</td>\n",
       "      <td>amr</td>\n",
       "    </tr>\n",
       "    <tr>\n",
       "      <th>10356</th>\n",
       "      <td>-2.291535</td>\n",
       "      <td>amr</td>\n",
       "    </tr>\n",
       "    <tr>\n",
       "      <th>10357</th>\n",
       "      <td>-2.187816</td>\n",
       "      <td>amr</td>\n",
       "    </tr>\n",
       "    <tr>\n",
       "      <th>10358</th>\n",
       "      <td>-5.740982</td>\n",
       "      <td>amr</td>\n",
       "    </tr>\n",
       "    <tr>\n",
       "      <th>10359</th>\n",
       "      <td>-4.669993</td>\n",
       "      <td>amr</td>\n",
       "    </tr>\n",
       "  </tbody>\n",
       "</table>\n",
       "<p>10360 rows × 2 columns</p>\n",
       "</div>"
      ],
      "text/plain": [
       "            avg   color\n",
       "0     -1.391623  Mariam\n",
       "1     -4.028828  Mariam\n",
       "2     -3.932844  Mariam\n",
       "3     -2.421361  Mariam\n",
       "4     -3.587060  Mariam\n",
       "...         ...     ...\n",
       "10355 -4.059544     amr\n",
       "10356 -2.291535     amr\n",
       "10357 -2.187816     amr\n",
       "10358 -5.740982     amr\n",
       "10359 -4.669993     amr\n",
       "\n",
       "[10360 rows x 2 columns]"
      ]
     },
     "execution_count": 118,
     "metadata": {},
     "output_type": "execute_result"
    }
   ],
   "source": [
    "pd.read_csv('GfG.csv')"
   ]
  },
  {
   "cell_type": "code",
   "execution_count": 110,
   "id": "cae2fae2",
   "metadata": {},
   "outputs": [
    {
     "data": {
      "text/plain": [
       "(array([1.115e+03, 4.400e+01, 2.100e+01, 1.500e+01, 1.500e+01, 9.000e+00,\n",
       "        4.000e+00, 8.000e+00, 7.000e+00, 3.000e+00, 5.000e+00, 2.000e+00,\n",
       "        2.000e+00, 3.000e+00, 1.000e+00, 4.000e+00, 3.000e+00, 3.000e+00,\n",
       "        1.000e+00, 2.000e+00, 0.000e+00, 0.000e+00, 0.000e+00, 0.000e+00,\n",
       "        0.000e+00, 0.000e+00, 2.000e+00, 0.000e+00, 1.000e+00, 0.000e+00,\n",
       "        1.000e+00, 1.000e+00, 1.000e+00, 0.000e+00, 0.000e+00, 1.000e+00,\n",
       "        0.000e+00, 0.000e+00, 0.000e+00, 0.000e+00, 0.000e+00, 1.000e+00,\n",
       "        1.000e+00, 0.000e+00, 0.000e+00, 0.000e+00, 1.000e+00, 0.000e+00,\n",
       "        0.000e+00, 1.000e+00, 0.000e+00, 0.000e+00, 0.000e+00, 0.000e+00,\n",
       "        0.000e+00, 0.000e+00, 0.000e+00, 0.000e+00, 0.000e+00, 0.000e+00,\n",
       "        0.000e+00, 0.000e+00, 0.000e+00, 0.000e+00, 0.000e+00, 0.000e+00,\n",
       "        0.000e+00, 0.000e+00, 0.000e+00, 0.000e+00, 0.000e+00, 0.000e+00,\n",
       "        0.000e+00, 0.000e+00, 0.000e+00, 0.000e+00, 0.000e+00, 0.000e+00,\n",
       "        0.000e+00, 0.000e+00, 0.000e+00, 0.000e+00, 0.000e+00, 0.000e+00,\n",
       "        0.000e+00, 0.000e+00, 0.000e+00, 0.000e+00, 0.000e+00, 0.000e+00,\n",
       "        0.000e+00, 1.000e+00, 0.000e+00, 0.000e+00, 0.000e+00, 0.000e+00,\n",
       "        0.000e+00, 0.000e+00, 0.000e+00, 1.000e+00]),\n",
       " array([8.71639383e-09, 7.33906329e-01, 1.46781266e+00, 2.20171905e+00,\n",
       "        2.93562531e+00, 3.66953158e+00, 4.40343809e+00, 5.13734436e+00,\n",
       "        5.87125063e+00, 6.60515690e+00, 7.33906317e+00, 8.07296944e+00,\n",
       "        8.80687618e+00, 9.54078197e+00, 1.02746887e+01, 1.10085945e+01,\n",
       "        1.17425013e+01, 1.24764080e+01, 1.32103138e+01, 1.39442205e+01,\n",
       "        1.46781263e+01, 1.54120331e+01, 1.61459389e+01, 1.68798447e+01,\n",
       "        1.76137524e+01, 1.83476582e+01, 1.90815639e+01, 1.98154716e+01,\n",
       "        2.05493774e+01, 2.12832832e+01, 2.20171890e+01, 2.27510967e+01,\n",
       "        2.34850025e+01, 2.42189083e+01, 2.49528160e+01, 2.56867218e+01,\n",
       "        2.64206276e+01, 2.71545334e+01, 2.78884411e+01, 2.86223469e+01,\n",
       "        2.93562527e+01, 3.00901585e+01, 3.08240662e+01, 3.15579720e+01,\n",
       "        3.22918777e+01, 3.30257835e+01, 3.37596893e+01, 3.44935989e+01,\n",
       "        3.52275047e+01, 3.59614105e+01, 3.66953163e+01, 3.74292221e+01,\n",
       "        3.81631279e+01, 3.88970337e+01, 3.96309433e+01, 4.03648491e+01,\n",
       "        4.10987549e+01, 4.18326607e+01, 4.25665665e+01, 4.33004723e+01,\n",
       "        4.40343781e+01, 4.47682877e+01, 4.55021935e+01, 4.62360992e+01,\n",
       "        4.69700050e+01, 4.77039108e+01, 4.84378166e+01, 4.91717224e+01,\n",
       "        4.99056320e+01, 5.06395378e+01, 5.13734436e+01, 5.21073494e+01,\n",
       "        5.28412552e+01, 5.35751610e+01, 5.43090668e+01, 5.50429764e+01,\n",
       "        5.57768822e+01, 5.65107880e+01, 5.72446938e+01, 5.79785995e+01,\n",
       "        5.87125053e+01, 5.94464111e+01, 6.01803169e+01, 6.09142265e+01,\n",
       "        6.16481323e+01, 6.23820381e+01, 6.31159439e+01, 6.38498497e+01,\n",
       "        6.45837555e+01, 6.53176651e+01, 6.60515671e+01, 6.67854767e+01,\n",
       "        6.75193787e+01, 6.82532883e+01, 6.89871979e+01, 6.97210999e+01,\n",
       "        7.04550095e+01, 7.11889114e+01, 7.19228210e+01, 7.26567230e+01,\n",
       "        7.33906326e+01]),\n",
       " <BarContainer object of 100 artists>)"
      ]
     },
     "execution_count": 110,
     "metadata": {},
     "output_type": "execute_result"
    },
    {
     "data": {
      "image/png": "[encoded data removed]",
      "text/plain": [
       "<Figure size 640x480 with 1 Axes>"
      ]
     },
     "metadata": {},
     "output_type": "display_data"
    }
   ],
   "source": [
    "\n",
    "plt.hist(averages[3],color = color[3], bins=100)\n",
    "plt.hist(averages[1],color =color[1], bins=100)\n",
    "plt.hist(averages[2],color =color[2], bins=100)\n",
    "plt.hist(averages[0],color =color[0], bins=100)"
   ]
  },
  {
   "cell_type": "code",
   "execution_count": 113,
   "id": "0f271044",
   "metadata": {},
   "outputs": [
    {
     "data": {
      "application/vnd.plotly.v1+json": {
       "config": {
        "plotlyServerURL": "https://plot.ly"
       },
       "data": [
        {
         "hovertemplate": "color=red<br>x=%{x}<br>y=%{y}<br>z=%{z}<extra></extra>",
         "legendgroup": "red",
         "marker": {
          "color": "#636efa",
          "symbol": "circle"
         },
         "mode": "markers",
         "name": "red",
         "scene": "scene",
         "showlegend": true,
         "type": "scatter3d",
         "x": [
          -6.777114950304494,
          0.0310930834602413,
          0.6988237472569355,
          -3.458734505567983,
          -1.1076980742153413,
          -2.6113411549859316,
          0.11441685979780507,
          -3.155801091720776,
          -0.625665752081918,
          -1.4308094527621482,
          1.2900299343736874,
          0.31780890980356974,
          -1.7799737920671046,
          0.8452879780139402,
          -4.5146408369269055,
          -1.3751438322667067,
          -3.1277720546237155,
          -0.4035706000100541,
          -0.5823523082543027,
          -1.434849077453737,
          -2.221719981199508,
          -4.59111998974831,
          -2.778513957790209,
          -2.8824386079851703,
          -3.3945015932027203,
          -2.047106741161103,
          2.0450540140656086,
          -1.2327305312453438,
          3.250291884499018,
          0.9913823239456448,
          -0.942944309147055,
          -2.572868287623669,
          -3.2140371375433388,
          0.565053046478681,
          0.5923614930034242,
          -1.646467309655953,
          1.2904806668669482,
          3.6300746491264113,
          0.4289233493741458,
          0.030822962430308732,
          -2.282295809274667,
          -3.9624443908933658,
          0.865056419535253,
          1.517747893628992,
          0.16255086051716236,
          2.4334276674789805,
          -0.15752192042868346,
          0.9390756273022239,
          0.9554610862899231,
          0.6446545869797279,
          -0.8556354673755701,
          3.1802986704199343,
          1.6993320520424917,
          -0.6878433133541562,
          -1.0408485542071433,
          2.4711960102419384,
          -1.375119144172826,
          -3.2644991999805533,
          2.4753750416534333,
          -0.8967813696857961,
          -1.7540144558389976,
          2.282330270551244,
          -5.2395319460536225,
          -2.435076407956604,
          1.842300538835861,
          -1.9659996341865036,
          -2.8196755622394005
         ],
         "y": [
          -3.752743596237515,
          1.0093687910441465,
          0.26252204075819036,
          -3.8053796126223793,
          -0.7742759857311639,
          -3.446974780058197,
          1.1034981842889322,
          -3.840200719674313,
          -0.22226086219538352,
          -1.5317491216045456,
          0.07867759774764704,
          -3.0397531981288273,
          -1.4091262047581221,
          1.9185325359120295,
          -4.435694600237876,
          -0.8842674537634236,
          -1.9507455686419537,
          -1.5309164609129542,
          -0.6951813200263027,
          -0.9703433789562389,
          -0.9284714628469899,
          -2.9074692121877272,
          -2.5192716515750733,
          -3.4874692968385665,
          -1.922503061545552,
          -1.4226394820428823,
          2.066065464398718,
          -1.6958170458000423,
          3.2994144166689936,
          1.5627678916197079,
          -2.306204033193112,
          -2.6159888099765243,
          -6.369502187157061,
          1.643632417805336,
          0.7371220460365008,
          -1.0841238865621086,
          1.1665155380698888,
          2.3954999446661525,
          -0.3651378226027774,
          -0.463951842972339,
          -2.256754733811084,
          -1.4189691790406547,
          0.4899656690787297,
          0.3989258194001887,
          -0.8016732459000453,
          -0.3805339929464838,
          -0.03112404665877504,
          1.2508653217023622,
          1.3443725386926813,
          -0.24139434237698215,
          -4.75992094720179,
          3.605321574051838,
          0.6843588667079271,
          -1.0879423363190637,
          0.7311109614308771,
          3.5557603037073013,
          1.5473699378459607,
          -2.7156870544301013,
          -0.902306280696793,
          0.32611452771313804,
          -0.33192032368065105,
          3.004435285857021,
          -5.599144929733038,
          -1.0199044397960253,
          -0.9711435931693797,
          -0.6466310260329459,
          -0.9668822262198764
         ],
         "z": [
          -7.381477520960729,
          0.39307556542062533,
          0.2474011834678212,
          -3.832351956780677,
          -1.8400474700263625,
          -5.304851758296815,
          1.0178648699692874,
          -3.1841921872473016,
          0.6511999161127748,
          -2.457764501107501,
          -0.3376921061040067,
          -1.4384028090533145,
          -2.201019677974691,
          -0.561900147166422,
          -3.955419013342154,
          -0.8708593354317656,
          -1.5027020773580828,
          -1.7344639224040779,
          1.5365239905599748,
          -0.8908882415408872,
          -1.894334161228235,
          -3.991229564486553,
          -1.9860713093140607,
          -4.821986885652897,
          -2.0220016858331187,
          -1.5711918930554218,
          2.0180555446852155,
          -0.8894465318339098,
          2.5223025461429884,
          1.7225517215227857,
          -2.599800124305922,
          -2.3339007753281242,
          -2.7864213467678156,
          3.3068163878844103,
          -1.0732249127051625,
          -2.274658712924379,
          -1.3836549123407396,
          -1.2069159865131753,
          -0.24974167752494725,
          -0.07362352035006436,
          -0.8850780876298512,
          -2.7898679956892853,
          0.5156631978310411,
          1.0155522382147661,
          -2.8857976962495324,
          -1.0698742417203817,
          -0.4048493599467166,
          0.625715312915233,
          1.7877608435411587,
          -0.29644192022849797,
          -2.847916244067417,
          1.5465858582579277,
          -2.8591934756661135,
          0.5760281146577251,
          0.5041819906403785,
          2.9580192707043067,
          1.4713748057471556,
          -1.5339739461179462,
          -1.830038809118013,
          0.40724860691560105,
          0.3017019091239743,
          1.8644454845685907,
          2.253663378409382,
          -0.906153089749601,
          -1.081539625793011,
          1.5004909361449892,
          0.03717826257590828
         ]
        },
        {
         "hovertemplate": "color=blue<br>x=%{x}<br>y=%{y}<br>z=%{z}<extra></extra>",
         "legendgroup": "blue",
         "marker": {
          "color": "#EF553B",
          "symbol": "circle"
         },
         "mode": "markers",
         "name": "blue",
         "scene": "scene",
         "showlegend": true,
         "type": "scatter3d",
         "x": [
          1.0327554116070907,
          0.8471208119854096,
          -2.2622646174894223,
          -0.665480327470645,
          -4.886310782053819,
          -3.1093563387410126,
          -1.1545748275020318,
          -0.555662006533899,
          -0.7454062422565564,
          -0.21069719368637915,
          -1.8078665154654736,
          -0.7345829560096597,
          -1.2052392791615798,
          0.5006579594425111,
          0.5410376979869561,
          -0.39091652939849253,
          1.0480285261634523,
          -1.528220262879091,
          -2.128432520026576,
          -0.9011497650358249,
          -1.8536750746029427,
          -1.800721676017552,
          3.0718805506549858,
          -3.5140408106169483,
          -4.458437369254938,
          0.5672350593519704,
          -0.17636453604051566,
          1.068699360627159,
          -3.0796077462608595,
          2.625553599825566,
          2.1007907508578922,
          0.8352310275437607,
          -2.6017845245437305,
          -1.437779022415333,
          1.2804157604824977,
          -1.2018845977730248,
          -0.22853670723686154,
          -0.8410257667732551,
          -2.2438798844270904,
          1.3305581104886932,
          -1.0574720591544222,
          -0.7639039263698986,
          -3.2254395340613455,
          2.07747478478375,
          -0.33077592018998186,
          -1.4186557446980073,
          1.0905346893335421,
          -0.1028356744400389,
          2.762297927613443,
          -5.828360906486212,
          0.9018790132949757,
          -4.223651970738155,
          -1.5027118939426642,
          -0.9004389291392141,
          -1.422784792319431,
          2.7023914563148415
         ],
         "y": [
          0.49287739581061685,
          0.8298298104663548,
          -4.296963532132457,
          -0.5282201626405215,
          -4.935651465011441,
          -1.7239902533337754,
          -0.46764437851746504,
          -1.6174769569265042,
          0.7483853266605285,
          0.28942812404628143,
          -1.6746055609808124,
          -0.09912977593098823,
          -0.16704079446663234,
          -0.9921672909110713,
          0.4255700435261941,
          0.3986044404413236,
          0.6721208045027602,
          -0.9784492958631459,
          -0.854023251889102,
          -3.3697814040533145,
          -2.7973694888044003,
          -1.0192651008507274,
          3.2765116038393516,
          -2.794185190565533,
          -3.628781884528326,
          1.0731893182738594,
          -0.18704162784204886,
          1.6927318277942784,
          -2.5749041763964184,
          2.9187543925801114,
          2.4938396061380415,
          0.6365637699276,
          -4.390042326643859,
          -0.767883801029219,
          -1.0578343376213941,
          -0.6810202430418104,
          0.7758474107782594,
          -1.1737777146558548,
          -1.20478300859495,
          1.187546486163527,
          -1.2277937724370607,
          -3.9205656163255354,
          -3.5574364156361136,
          1.323633051550023,
          -0.24883364211572595,
          -1.0518312970162134,
          1.1933277795458883,
          1.304719546538235,
          1.9403440717546432,
          -4.355186825932727,
          2.916796661998366,
          -5.174032528797178,
          -0.7477852169814622,
          -2.844062246659555,
          -1.526523802801026,
          -0.7446827982875802
         ],
         "z": [
          -1.6458790939056285,
          -1.5087135663388571,
          -3.6853326691200805,
          -2.6371198947718217,
          -3.4526138963464668,
          -4.072258386304035,
          -1.2954893326388248,
          -1.7202733834299102,
          0.08725076940285877,
          -0.3526884507827611,
          -0.8485781258546125,
          0.5802642335074544,
          0.02463890817041412,
          -1.1405222058287072,
          1.281456135934227,
          -0.5122645634960179,
          -0.7215908093341235,
          -3.475229564156102,
          -1.0661977529216042,
          -1.2138623222180103,
          -5.317553601370142,
          -2.1564688207493394,
          1.6218687508403584,
          -2.6644909974137385,
          -6.154911193943046,
          0.6202808805630639,
          0.45269857770679023,
          0.45682264170807285,
          -0.6049271496666655,
          2.0186315210147647,
          2.546442831503052,
          1.2535505886993,
          -5.9774773890272135,
          -3.285290433444551,
          0.6731916050804114,
          0.38016497515930886,
          -0.3268497331989552,
          -1.439302857951118,
          -3.7319416184664846,
          2.506122820600387,
          -3.486326871614085,
          -0.7585256664120203,
          -2.988384036478158,
          1.703318066986816,
          -0.7878938038977576,
          -0.07945166685118554,
          0.04488208661235832,
          1.7340383975826401,
          1.674446504135163,
          -1.4330664310085608,
          0.4289145105268397,
          -7.87951116390426,
          -1.4535905574591144,
          -4.367599466877822,
          -2.126645869649385,
          -0.46919538088216795
         ]
        },
        {
         "hovertemplate": "color=green<br>x=%{x}<br>y=%{y}<br>z=%{z}<extra></extra>",
         "legendgroup": "green",
         "marker": {
          "color": "#00cc96",
          "symbol": "circle"
         },
         "mode": "markers",
         "name": "green",
         "scene": "scene",
         "showlegend": true,
         "type": "scatter3d",
         "x": [
          0.6011391345845032,
          -3.4488213817948212,
          -2.7921923583845816,
          -3.902764026840182,
          -3.7435869300897053,
          -4.570208276375148,
          -2.3488343576447193,
          -2.3160008613228884,
          -0.3773874521179162,
          -1.7199500959366651,
          -4.912057810989419,
          -1.4281193662194185,
          -1.703741858511951,
          -0.5588098472107195,
          0.8049580265180047,
          -0.3980184172146234,
          -0.17311528424315453,
          -6.285620860355211,
          -0.8410237818634021,
          -2.2615389916543163,
          -1.7873952909402746,
          -0.2517986328517218,
          -1.9735058687769367,
          -2.6772815569450397,
          -4.21060174061268,
          -3.9284107946514792,
          -0.5383065560941805,
          -1.2694841972218405,
          -1.0554928685537872,
          -2.4220975379777743,
          -3.6348222499026948,
          -4.243546488825887,
          -0.11117611706125499,
          0.23550869132793933,
          -2.3389109839433284,
          -2.5137559656859767,
          1.3409041109457989,
          -1.5035391288790336,
          -2.1730753168833425,
          -1.1433756170151785,
          -0.8844925712818995,
          -4.127912937968743,
          0.928291218567756,
          0.9781040975396419,
          -1.316485193337777,
          -4.273821918585348,
          -3.073453260876365,
          0.9029089341945735,
          -0.656509455627609,
          -0.12575553402416437,
          -2.4204422715045735,
          -2.7457398824932047,
          -4.8202596111405684,
          -4.904855220901384,
          3.7940402707108354,
          -1.7886295664963932,
          2.5947429783066385,
          -3.6144823569803335,
          -6.205257217659446,
          -2.301427876356268,
          0.8226273793522976,
          -4.924645366958791,
          -1.7495347936985592
         ],
         "y": [
          0.4587249705611158,
          -3.5192722265947767,
          -4.3079260478092065,
          -3.6194491023203783,
          -5.404789799067,
          -5.3175308427497985,
          -2.6079464296796457,
          -0.3494869857664991,
          -1.1162596479447044,
          -2.566085394691362,
          -4.234561266037682,
          -2.1831119657714564,
          -3.6580680841231383,
          2.0864039664639464,
          -1.951240724089119,
          -1.1115677694306705,
          -1.0031529458837836,
          -6.113675105183773,
          -1.8664901815059693,
          -0.08745768399841825,
          0.2858390184998234,
          0.16015225915372028,
          -1.6819209402497404,
          -3.620295117403265,
          -3.2946548503838473,
          -2.945488810210248,
          0.0920083176761829,
          -0.3080411776276278,
          -1.310696935654418,
          -0.224634923289811,
          -4.535273567993107,
          -3.4354599353949182,
          -0.3964360894311325,
          0.07245893098798775,
          -2.2253192060439355,
          -2.730410860702262,
          0.2882572959689769,
          -0.687543126140526,
          -2.09243525427653,
          -0.2440445440430108,
          -0.8176458372222635,
          -2.736495180286294,
          -0.009762869606502588,
          -0.366199446588336,
          -1.8831656109174706,
          -3.352615512112842,
          -2.917492949037008,
          0.3882863407844471,
          -2.909097530065774,
          -0.47071858726625476,
          -1.823654297027619,
          -2.2768520479940504,
          -2.918984684118841,
          -4.637047483826074,
          1.8966618803238826,
          -1.6430821106441005,
          2.5979243100260705,
          -2.817116253254986,
          -3.387042122980051,
          -1.77028568868649,
          1.2876358041478788,
          -4.801168050303548,
          -2.855067161204963
         ],
         "z": [
          0.7473108046286916,
          -5.216356001464535,
          -5.2003917714065455,
          -6.077740046262081,
          -5.3114997229310195,
          -3.5239792421386147,
          -1.5983166892371723,
          -0.4743695691903661,
          -1.7816066114682425,
          -1.7404873679638082,
          -2.0373074991190085,
          -2.6868550485006617,
          -2.2413872829962207,
          1.79108364160582,
          -3.6010474120485747,
          -2.3549953338333456,
          -1.076201210125077,
          -3.6424790045372726,
          -1.3264754183471188,
          1.0287923750314774,
          1.2885332375419787,
          -0.9142955187374204,
          -1.786431564648892,
          -2.376023547277652,
          -2.6527858042410273,
          -0.8823274682230868,
          0.1080853026510005,
          1.3718016958630992,
          -1.066187874116588,
          0.8054829764514915,
          -0.4342611485352788,
          -1.2494477735496674,
          -2.383280907929171,
          -0.07734915795980911,
          -1.7237192943579156,
          -2.531997073041171,
          0.5695523000099361,
          -1.0958358020543149,
          -0.1604774884772808,
          0.4844462767516099,
          -2.50527862776004,
          -1.575375238199371,
          -0.6330300664770478,
          0.32928640508607765,
          -2.8321346258009727,
          -3.315435824491972,
          -1.8578256530838335,
          1.3966240580100893,
          -1.5299698298970257,
          0.35931955578706853,
          0.03937485499487146,
          -3.8401449869676787,
          -3.8372844950480625,
          -3.220711299815578,
          2.7997163289832594,
          -3.855462832897394,
          2.809496341578677,
          -2.6015127773829896,
          -5.494929121762631,
          -0.5292108713642004,
          1.2856453219239945,
          -5.245158036764872,
          -2.6096028171308934
         ]
        },
        {
         "hovertemplate": "color=yellow<br>x=%{x}<br>y=%{y}<br>z=%{z}<extra></extra>",
         "legendgroup": "yellow",
         "marker": {
          "color": "#ab63fa",
          "symbol": "circle"
         },
         "mode": "markers",
         "name": "yellow",
         "scene": "scene",
         "showlegend": true,
         "type": "scatter3d",
         "x": [
          -0.0576880506841823,
          -4.740375024856794,
          -5.074343524853806,
          -1.0534375626037988,
          -2.703161184884056,
          -3.3981084246686875,
          -0.8652536347818828,
          -6.242374816838126,
          -4.316718570845396,
          -1.2339623479378294,
          -4.10217312837665,
          -0.994323194141311,
          -2.1562769813654485,
          3.1663521627876543,
          0.488720868540698,
          -3.7541864475492135,
          -3.831267315726172,
          -5.016173441838415,
          -2.570463596357407,
          -3.2204324669888758,
          -1.349352138061903,
          -0.9713384381045905,
          -3.1084809025574214,
          -1.314852181665649,
          -6.335442710842538,
          -0.7004460771475809,
          -4.512671279872903,
          -0.9644356798763571,
          -1.7184707230999954,
          -5.278630290258987,
          -1.8245722631973442,
          -4.115282141179869,
          -2.503667503236159,
          -2.4282421593025196,
          -1.6496484933180426,
          -4.313513690084278,
          -3.010110526421889,
          -1.2596359728672222,
          -0.7443436283438218,
          -4.975136382087279,
          0.939982577671682,
          0.2788680627430701,
          -6.4097747751393515,
          -1.1800942595178558,
          -4.134997456492244,
          -1.3118729594372287,
          -0.2456779785181275,
          -3.659575082891364,
          0.6382604691206007,
          -1.2442936334571493,
          -2.8227530342985263,
          -2.039358689327476,
          -6.231707780005609
         ],
         "y": [
          0.16230410925638944,
          -5.356089502699226,
          -3.7436938890162423,
          -0.788068727530078,
          -2.7644751690030795,
          -2.7731358828880373,
          -0.8094282702938751,
          -2.126593079586051,
          -4.4075960370732705,
          -2.3279158347899847,
          -3.447482721167236,
          -1.3477635124523937,
          -1.5960694076534399,
          4.1426497446178,
          -0.6958410506500197,
          -3.827750070475876,
          -2.376928875996031,
          -4.868254073309045,
          -5.936767043954392,
          -5.299611561165259,
          -2.6584463994182346,
          -2.680541558330886,
          -3.520503854170813,
          -1.3012087408012067,
          -5.548302597857943,
          -0.9378832221276022,
          -1.2398248049060634,
          -1.824217111161025,
          -2.3518082314441933,
          -6.764560975932345,
          -3.898017446965656,
          -3.8305538469773692,
          -3.2015332831939487,
          -3.451107521265945,
          -0.7129605046400582,
          -1.9433870213649136,
          -1.61387156947086,
          -2.651924911618377,
          0.23384508749237676,
          -3.8863584788792727,
          1.4422362821530073,
          1.3885346252377269,
          -1.7567930603368094,
          -1.4455929264508665,
          -3.8528056790359697,
          -3.1588959435261383,
          -1.3985074120857857,
          -3.4148637475246817,
          -1.7430736021314661,
          0.053371251618398265,
          -4.879739797407908,
          -1.3768234842998146,
          -8.184364246317047
         ],
         "z": [
          -2.207017347745463,
          -2.6160060021965226,
          -4.44539173103768,
          -1.2799219672726052,
          -0.8670041800259769,
          -3.204406948228521,
          0.24820795233125453,
          -4.510317174667593,
          -4.755149951215746,
          -2.6250714444627143,
          -2.20930452105313,
          -1.039208863697513,
          -7.814120939761824,
          3.6372313166500376,
          0.18884866534989964,
          -2.5559726965626695,
          -1.8745780410263315,
          -4.454145266050771,
          -3.8693719332466068,
          -3.741900923106756,
          -2.565232114883101,
          -1.842322296927159,
          -3.6892788968394057,
          -1.1940807370256958,
          -3.987941089178663,
          -2.1738486475542627,
          -1.684177619836338,
          -1.6669056517132848,
          -2.240152596049421,
          -6.5101756713427745,
          -5.802425956637081,
          -4.767094113983723,
          -4.352246243027454,
          -2.4394554430986175,
          -0.5510178143138951,
          -0.8053207680748387,
          0.07817579801548737,
          -0.6226090604555247,
          0.20735514613392217,
          -3.429111566348253,
          -1.1568435815573954,
          1.2091090188770321,
          -4.81294940522637,
          -4.316487602914332,
          -2.8484337758541822,
          -4.933626451418685,
          -6.702192089169432,
          -4.252812456119308,
          -2.3833796469618145,
          0.03278711949797104,
          -3.6755727177232123,
          -1.1837761655179855,
          -7.373084047812581
         ]
        }
       ],
       "layout": {
        "legend": {
         "title": {
          "text": "color"
         },
         "tracegroupgap": 0
        },
        "margin": {
         "t": 60
        },
        "scene": {
         "domain": {
          "x": [
           0,
           1
          ],
          "y": [
           0,
           1
          ]
         },
         "xaxis": {
          "title": {
           "text": "x"
          }
         },
         "yaxis": {
          "title": {
           "text": "y"
          }
         },
         "zaxis": {
          "title": {
           "text": "z"
          }
         }
        },
        "template": {
         "data": {
          "bar": [
           {
            "error_x": {
             "color": "#2a3f5f"
            },
            "error_y": {
             "color": "#2a3f5f"
            },
            "marker": {
             "line": {
              "color": "#E5ECF6",
              "width": 0.5
             },
             "pattern": {
              "fillmode": "overlay",
              "size": 10,
              "solidity": 0.2
             }
            },
            "type": "bar"
           }
          ],
          "barpolar": [
           {
            "marker": {
             "line": {
              "color": "#E5ECF6",
              "width": 0.5
             },
             "pattern": {
              "fillmode": "overlay",
              "size": 10,
              "solidity": 0.2
             }
            },
            "type": "barpolar"
           }
          ],
          "carpet": [
           {
            "aaxis": {
             "endlinecolor": "#2a3f5f",
             "gridcolor": "white",
             "linecolor": "white",
             "minorgridcolor": "white",
             "startlinecolor": "#2a3f5f"
            },
            "baxis": {
             "endlinecolor": "#2a3f5f",
             "gridcolor": "white",
             "linecolor": "white",
             "minorgridcolor": "white",
             "startlinecolor": "#2a3f5f"
            },
            "type": "carpet"
           }
          ],
          "choropleth": [
           {
            "colorbar": {
             "outlinewidth": 0,
             "ticks": ""
            },
            "type": "choropleth"
           }
          ],
          "contour": [
           {
            "colorbar": {
             "outlinewidth": 0,
             "ticks": ""
            },
            "colorscale": [
             [
              0,
              "#0d0887"
             ],
             [
              0.1111111111111111,
              "#46039f"
             ],
             [
              0.2222222222222222,
              "#7201a8"
             ],
             [
              0.3333333333333333,
              "#9c179e"
             ],
             [
              0.4444444444444444,
              "#bd3786"
             ],
             [
              0.5555555555555556,
              "#d8576b"
             ],
             [
              0.6666666666666666,
              "#ed7953"
             ],
             [
              0.7777777777777778,
              "#fb9f3a"
             ],
             [
              0.8888888888888888,
              "#fdca26"
             ],
             [
              1,
              "#f0f921"
             ]
            ],
            "type": "contour"
           }
          ],
          "contourcarpet": [
           {
            "colorbar": {
             "outlinewidth": 0,
             "ticks": ""
            },
            "type": "contourcarpet"
           }
          ],
          "heatmap": [
           {
            "colorbar": {
             "outlinewidth": 0,
             "ticks": ""
            },
            "colorscale": [
             [
              0,
              "#0d0887"
             ],
             [
              0.1111111111111111,
              "#46039f"
             ],
             [
              0.2222222222222222,
              "#7201a8"
             ],
             [
              0.3333333333333333,
              "#9c179e"
             ],
             [
              0.4444444444444444,
              "#bd3786"
             ],
             [
              0.5555555555555556,
              "#d8576b"
             ],
             [
              0.6666666666666666,
              "#ed7953"
             ],
             [
              0.7777777777777778,
              "#fb9f3a"
             ],
             [
              0.8888888888888888,
              "#fdca26"
             ],
             [
              1,
              "#f0f921"
             ]
            ],
            "type": "heatmap"
           }
          ],
          "heatmapgl": [
           {
            "colorbar": {
             "outlinewidth": 0,
             "ticks": ""
            },
            "colorscale": [
             [
              0,
              "#0d0887"
             ],
             [
              0.1111111111111111,
              "#46039f"
             ],
             [
              0.2222222222222222,
              "#7201a8"
             ],
             [
              0.3333333333333333,
              "#9c179e"
             ],
             [
              0.4444444444444444,
              "#bd3786"
             ],
             [
              0.5555555555555556,
              "#d8576b"
             ],
             [
              0.6666666666666666,
              "#ed7953"
             ],
             [
              0.7777777777777778,
              "#fb9f3a"
             ],
             [
              0.8888888888888888,
              "#fdca26"
             ],
             [
              1,
              "#f0f921"
             ]
            ],
            "type": "heatmapgl"
           }
          ],
          "histogram": [
           {
            "marker": {
             "pattern": {
              "fillmode": "overlay",
              "size": 10,
              "solidity": 0.2
             }
            },
            "type": "histogram"
           }
          ],
          "histogram2d": [
           {
            "colorbar": {
             "outlinewidth": 0,
             "ticks": ""
            },
            "colorscale": [
             [
              0,
              "#0d0887"
             ],
             [
              0.1111111111111111,
              "#46039f"
             ],
             [
              0.2222222222222222,
              "#7201a8"
             ],
             [
              0.3333333333333333,
              "#9c179e"
             ],
             [
              0.4444444444444444,
              "#bd3786"
             ],
             [
              0.5555555555555556,
              "#d8576b"
             ],
             [
              0.6666666666666666,
              "#ed7953"
             ],
             [
              0.7777777777777778,
              "#fb9f3a"
             ],
             [
              0.8888888888888888,
              "#fdca26"
             ],
             [
              1,
              "#f0f921"
             ]
            ],
            "type": "histogram2d"
           }
          ],
          "histogram2dcontour": [
           {
            "colorbar": {
             "outlinewidth": 0,
             "ticks": ""
            },
            "colorscale": [
             [
              0,
              "#0d0887"
             ],
             [
              0.1111111111111111,
              "#46039f"
             ],
             [
              0.2222222222222222,
              "#7201a8"
             ],
             [
              0.3333333333333333,
              "#9c179e"
             ],
             [
              0.4444444444444444,
              "#bd3786"
             ],
             [
              0.5555555555555556,
              "#d8576b"
             ],
             [
              0.6666666666666666,
              "#ed7953"
             ],
             [
              0.7777777777777778,
              "#fb9f3a"
             ],
             [
              0.8888888888888888,
              "#fdca26"
             ],
             [
              1,
              "#f0f921"
             ]
            ],
            "type": "histogram2dcontour"
           }
          ],
          "mesh3d": [
           {
            "colorbar": {
             "outlinewidth": 0,
             "ticks": ""
            },
            "type": "mesh3d"
           }
          ],
          "parcoords": [
           {
            "line": {
             "colorbar": {
              "outlinewidth": 0,
              "ticks": ""
             }
            },
            "type": "parcoords"
           }
          ],
          "pie": [
           {
            "automargin": true,
            "type": "pie"
           }
          ],
          "scatter": [
           {
            "fillpattern": {
             "fillmode": "overlay",
             "size": 10,
             "solidity": 0.2
            },
            "type": "scatter"
           }
          ],
          "scatter3d": [
           {
            "line": {
             "colorbar": {
              "outlinewidth": 0,
              "ticks": ""
             }
            },
            "marker": {
             "colorbar": {
              "outlinewidth": 0,
              "ticks": ""
             }
            },
            "type": "scatter3d"
           }
          ],
          "scattercarpet": [
           {
            "marker": {
             "colorbar": {
              "outlinewidth": 0,
              "ticks": ""
             }
            },
            "type": "scattercarpet"
           }
          ],
          "scattergeo": [
           {
            "marker": {
             "colorbar": {
              "outlinewidth": 0,
              "ticks": ""
             }
            },
            "type": "scattergeo"
           }
          ],
          "scattergl": [
           {
            "marker": {
             "colorbar": {
              "outlinewidth": 0,
              "ticks": ""
             }
            },
            "type": "scattergl"
           }
          ],
          "scattermapbox": [
           {
            "marker": {
             "colorbar": {
              "outlinewidth": 0,
              "ticks": ""
             }
            },
            "type": "scattermapbox"
           }
          ],
          "scatterpolar": [
           {
            "marker": {
             "colorbar": {
              "outlinewidth": 0,
              "ticks": ""
             }
            },
            "type": "scatterpolar"
           }
          ],
          "scatterpolargl": [
           {
            "marker": {
             "colorbar": {
              "outlinewidth": 0,
              "ticks": ""
             }
            },
            "type": "scatterpolargl"
           }
          ],
          "scatterternary": [
           {
            "marker": {
             "colorbar": {
              "outlinewidth": 0,
              "ticks": ""
             }
            },
            "type": "scatterternary"
           }
          ],
          "surface": [
           {
            "colorbar": {
             "outlinewidth": 0,
             "ticks": ""
            },
            "colorscale": [
             [
              0,
              "#0d0887"
             ],
             [
              0.1111111111111111,
              "#46039f"
             ],
             [
              0.2222222222222222,
              "#7201a8"
             ],
             [
              0.3333333333333333,
              "#9c179e"
             ],
             [
              0.4444444444444444,
              "#bd3786"
             ],
             [
              0.5555555555555556,
              "#d8576b"
             ],
             [
              0.6666666666666666,
              "#ed7953"
             ],
             [
              0.7777777777777778,
              "#fb9f3a"
             ],
             [
              0.8888888888888888,
              "#fdca26"
             ],
             [
              1,
              "#f0f921"
             ]
            ],
            "type": "surface"
           }
          ],
          "table": [
           {
            "cells": {
             "fill": {
              "color": "#EBF0F8"
             },
             "line": {
              "color": "white"
             }
            },
            "header": {
             "fill": {
              "color": "#C8D4E3"
             },
             "line": {
              "color": "white"
             }
            },
            "type": "table"
           }
          ]
         },
         "layout": {
          "annotationdefaults": {
           "arrowcolor": "#2a3f5f",
           "arrowhead": 0,
           "arrowwidth": 1
          },
          "autotypenumbers": "strict",
          "coloraxis": {
           "colorbar": {
            "outlinewidth": 0,
            "ticks": ""
           }
          },
          "colorscale": {
           "diverging": [
            [
             0,
             "#8e0152"
            ],
            [
             0.1,
             "#c51b7d"
            ],
            [
             0.2,
             "#de77ae"
            ],
            [
             0.3,
             "#f1b6da"
            ],
            [
             0.4,
             "#fde0ef"
            ],
            [
             0.5,
             "#f7f7f7"
            ],
            [
             0.6,
             "#e6f5d0"
            ],
            [
             0.7,
             "#b8e186"
            ],
            [
             0.8,
             "#7fbc41"
            ],
            [
             0.9,
             "#4d9221"
            ],
            [
             1,
             "#276419"
            ]
           ],
           "sequential": [
            [
             0,
             "#0d0887"
            ],
            [
             0.1111111111111111,
             "#46039f"
            ],
            [
             0.2222222222222222,
             "#7201a8"
            ],
            [
             0.3333333333333333,
             "#9c179e"
            ],
            [
             0.4444444444444444,
             "#bd3786"
            ],
            [
             0.5555555555555556,
             "#d8576b"
            ],
            [
             0.6666666666666666,
             "#ed7953"
            ],
            [
             0.7777777777777778,
             "#fb9f3a"
            ],
            [
             0.8888888888888888,
             "#fdca26"
            ],
            [
             1,
             "#f0f921"
            ]
           ],
           "sequentialminus": [
            [
             0,
             "#0d0887"
            ],
            [
             0.1111111111111111,
             "#46039f"
            ],
            [
             0.2222222222222222,
             "#7201a8"
            ],
            [
             0.3333333333333333,
             "#9c179e"
            ],
            [
             0.4444444444444444,
             "#bd3786"
            ],
            [
             0.5555555555555556,
             "#d8576b"
            ],
            [
             0.6666666666666666,
             "#ed7953"
            ],
            [
             0.7777777777777778,
             "#fb9f3a"
            ],
            [
             0.8888888888888888,
             "#fdca26"
            ],
            [
             1,
             "#f0f921"
            ]
           ]
          },
          "colorway": [
           "#636efa",
           "#EF553B",
           "#00cc96",
           "#ab63fa",
           "#FFA15A",
           "#19d3f3",
           "#FF6692",
           "#B6E880",
           "#FF97FF",
           "#FECB52"
          ],
          "font": {
           "color": "#2a3f5f"
          },
          "geo": {
           "bgcolor": "white",
           "lakecolor": "white",
           "landcolor": "#E5ECF6",
           "showlakes": true,
           "showland": true,
           "subunitcolor": "white"
          },
          "hoverlabel": {
           "align": "left"
          },
          "hovermode": "closest",
          "mapbox": {
           "style": "light"
          },
          "paper_bgcolor": "white",
          "plot_bgcolor": "#E5ECF6",
          "polar": {
           "angularaxis": {
            "gridcolor": "white",
            "linecolor": "white",
            "ticks": ""
           },
           "bgcolor": "#E5ECF6",
           "radialaxis": {
            "gridcolor": "white",
            "linecolor": "white",
            "ticks": ""
           }
          },
          "scene": {
           "xaxis": {
            "backgroundcolor": "#E5ECF6",
            "gridcolor": "white",
            "gridwidth": 2,
            "linecolor": "white",
            "showbackground": true,
            "ticks": "",
            "zerolinecolor": "white"
           },
           "yaxis": {
            "backgroundcolor": "#E5ECF6",
            "gridcolor": "white",
            "gridwidth": 2,
            "linecolor": "white",
            "showbackground": true,
            "ticks": "",
            "zerolinecolor": "white"
           },
           "zaxis": {
            "backgroundcolor": "#E5ECF6",
            "gridcolor": "white",
            "gridwidth": 2,
            "linecolor": "white",
            "showbackground": true,
            "ticks": "",
            "zerolinecolor": "white"
           }
          },
          "shapedefaults": {
           "line": {
            "color": "#2a3f5f"
           }
          },
          "ternary": {
           "aaxis": {
            "gridcolor": "white",
            "linecolor": "white",
            "ticks": ""
           },
           "baxis": {
            "gridcolor": "white",
            "linecolor": "white",
            "ticks": ""
           },
           "bgcolor": "#E5ECF6",
           "caxis": {
            "gridcolor": "white",
            "linecolor": "white",
            "ticks": ""
           }
          },
          "title": {
           "x": 0.05
          },
          "xaxis": {
           "automargin": true,
           "gridcolor": "white",
           "linecolor": "white",
           "ticks": "",
           "title": {
            "standoff": 15
           },
           "zerolinecolor": "white",
           "zerolinewidth": 2
          },
          "yaxis": {
           "automargin": true,
           "gridcolor": "white",
           "linecolor": "white",
           "ticks": "",
           "title": {
            "standoff": 15
           },
           "zerolinecolor": "white",
           "zerolinewidth": 2
          }
         }
        }
       }
      },
      "text/html": [
       "<div>                            <div id=\"52115912-b8f9-4dc0-a624-d522bac6f080\" class=\"plotly-graph-div\" style=\"height:525px; width:100%;\"></div>            <script type=\"text/javascript\">                require([\"plotly\"], function(Plotly) {                    window.PLOTLYENV=window.PLOTLYENV || {};                                    if (document.getElementById(\"52115912-b8f9-4dc0-a624-d522bac6f080\")) {                    Plotly.newPlot(                        \"52115912-b8f9-4dc0-a624-d522bac6f080\",                        [{\"hovertemplate\":\"color=red<br>x=%{x}<br>y=%{y}<br>z=%{z}<extra></extra>\",\"legendgroup\":\"red\",\"marker\":{\"color\":\"#636efa\",\"symbol\":\"circle\"},\"mode\":\"markers\",\"name\":\"red\",\"scene\":\"scene\",\"showlegend\":true,\"x\":[-6.777114950304494,0.0310930834602413,0.6988237472569355,-3.458734505567983,-1.1076980742153413,-2.6113411549859316,0.11441685979780507,-3.155801091720776,-0.625665752081918,-1.4308094527621482,1.2900299343736874,0.31780890980356974,-1.7799737920671046,0.8452879780139402,-4.5146408369269055,-1.3751438322667067,-3.1277720546237155,-0.4035706000100541,-0.5823523082543027,-1.434849077453737,-2.221719981199508,-4.59111998974831,-2.778513957790209,-2.8824386079851703,-3.3945015932027203,-2.047106741161103,2.0450540140656086,-1.2327305312453438,3.250291884499018,0.9913823239456448,-0.942944309147055,-2.572868287623669,-3.2140371375433388,0.565053046478681,0.5923614930034242,-1.646467309655953,1.2904806668669482,3.6300746491264113,0.4289233493741458,0.030822962430308732,-2.282295809274667,-3.9624443908933658,0.865056419535253,1.517747893628992,0.16255086051716236,2.4334276674789805,-0.15752192042868346,0.9390756273022239,0.9554610862899231,0.6446545869797279,-0.8556354673755701,3.1802986704199343,1.6993320520424917,-0.6878433133541562,-1.0408485542071433,2.4711960102419384,-1.375119144172826,-3.2644991999805533,2.4753750416534333,-0.8967813696857961,-1.7540144558389976,2.282330270551244,-5.2395319460536225,-2.435076407956604,1.842300538835861,-1.9659996341865036,-2.8196755622394005],\"y\":[-3.752743596237515,1.0093687910441465,0.26252204075819036,-3.8053796126223793,-0.7742759857311639,-3.446974780058197,1.1034981842889322,-3.840200719674313,-0.22226086219538352,-1.5317491216045456,0.07867759774764704,-3.0397531981288273,-1.4091262047581221,1.9185325359120295,-4.435694600237876,-0.8842674537634236,-1.9507455686419537,-1.5309164609129542,-0.6951813200263027,-0.9703433789562389,-0.9284714628469899,-2.9074692121877272,-2.5192716515750733,-3.4874692968385665,-1.922503061545552,-1.4226394820428823,2.066065464398718,-1.6958170458000423,3.2994144166689936,1.5627678916197079,-2.306204033193112,-2.6159888099765243,-6.369502187157061,1.643632417805336,0.7371220460365008,-1.0841238865621086,1.1665155380698888,2.3954999446661525,-0.3651378226027774,-0.463951842972339,-2.256754733811084,-1.4189691790406547,0.4899656690787297,0.3989258194001887,-0.8016732459000453,-0.3805339929464838,-0.03112404665877504,1.2508653217023622,1.3443725386926813,-0.24139434237698215,-4.75992094720179,3.605321574051838,0.6843588667079271,-1.0879423363190637,0.7311109614308771,3.5557603037073013,1.5473699378459607,-2.7156870544301013,-0.902306280696793,0.32611452771313804,-0.33192032368065105,3.004435285857021,-5.599144929733038,-1.0199044397960253,-0.9711435931693797,-0.6466310260329459,-0.9668822262198764],\"z\":[-7.381477520960729,0.39307556542062533,0.2474011834678212,-3.832351956780677,-1.8400474700263625,-5.304851758296815,1.0178648699692874,-3.1841921872473016,0.6511999161127748,-2.457764501107501,-0.3376921061040067,-1.4384028090533145,-2.201019677974691,-0.561900147166422,-3.955419013342154,-0.8708593354317656,-1.5027020773580828,-1.7344639224040779,1.5365239905599748,-0.8908882415408872,-1.894334161228235,-3.991229564486553,-1.9860713093140607,-4.821986885652897,-2.0220016858331187,-1.5711918930554218,2.0180555446852155,-0.8894465318339098,2.5223025461429884,1.7225517215227857,-2.599800124305922,-2.3339007753281242,-2.7864213467678156,3.3068163878844103,-1.0732249127051625,-2.274658712924379,-1.3836549123407396,-1.2069159865131753,-0.24974167752494725,-0.07362352035006436,-0.8850780876298512,-2.7898679956892853,0.5156631978310411,1.0155522382147661,-2.8857976962495324,-1.0698742417203817,-0.4048493599467166,0.625715312915233,1.7877608435411587,-0.29644192022849797,-2.847916244067417,1.5465858582579277,-2.8591934756661135,0.5760281146577251,0.5041819906403785,2.9580192707043067,1.4713748057471556,-1.5339739461179462,-1.830038809118013,0.40724860691560105,0.3017019091239743,1.8644454845685907,2.253663378409382,-0.906153089749601,-1.081539625793011,1.5004909361449892,0.03717826257590828],\"type\":\"scatter3d\"},{\"hovertemplate\":\"color=blue<br>x=%{x}<br>y=%{y}<br>z=%{z}<extra></extra>\",\"legendgroup\":\"blue\",\"marker\":{\"color\":\"#EF553B\",\"symbol\":\"circle\"},\"mode\":\"markers\",\"name\":\"blue\",\"scene\":\"scene\",\"showlegend\":true,\"x\":[1.0327554116070907,0.8471208119854096,-2.2622646174894223,-0.665480327470645,-4.886310782053819,-3.1093563387410126,-1.1545748275020318,-0.555662006533899,-0.7454062422565564,-0.21069719368637915,-1.8078665154654736,-0.7345829560096597,-1.2052392791615798,0.5006579594425111,0.5410376979869561,-0.39091652939849253,1.0480285261634523,-1.528220262879091,-2.128432520026576,-0.9011497650358249,-1.8536750746029427,-1.800721676017552,3.0718805506549858,-3.5140408106169483,-4.458437369254938,0.5672350593519704,-0.17636453604051566,1.068699360627159,-3.0796077462608595,2.625553599825566,2.1007907508578922,0.8352310275437607,-2.6017845245437305,-1.437779022415333,1.2804157604824977,-1.2018845977730248,-0.22853670723686154,-0.8410257667732551,-2.2438798844270904,1.3305581104886932,-1.0574720591544222,-0.7639039263698986,-3.2254395340613455,2.07747478478375,-0.33077592018998186,-1.4186557446980073,1.0905346893335421,-0.1028356744400389,2.762297927613443,-5.828360906486212,0.9018790132949757,-4.223651970738155,-1.5027118939426642,-0.9004389291392141,-1.422784792319431,2.7023914563148415],\"y\":[0.49287739581061685,0.8298298104663548,-4.296963532132457,-0.5282201626405215,-4.935651465011441,-1.7239902533337754,-0.46764437851746504,-1.6174769569265042,0.7483853266605285,0.28942812404628143,-1.6746055609808124,-0.09912977593098823,-0.16704079446663234,-0.9921672909110713,0.4255700435261941,0.3986044404413236,0.6721208045027602,-0.9784492958631459,-0.854023251889102,-3.3697814040533145,-2.7973694888044003,-1.0192651008507274,3.2765116038393516,-2.794185190565533,-3.628781884528326,1.0731893182738594,-0.18704162784204886,1.6927318277942784,-2.5749041763964184,2.9187543925801114,2.4938396061380415,0.6365637699276,-4.390042326643859,-0.767883801029219,-1.0578343376213941,-0.6810202430418104,0.7758474107782594,-1.1737777146558548,-1.20478300859495,1.187546486163527,-1.2277937724370607,-3.9205656163255354,-3.5574364156361136,1.323633051550023,-0.24883364211572595,-1.0518312970162134,1.1933277795458883,1.304719546538235,1.9403440717546432,-4.355186825932727,2.916796661998366,-5.174032528797178,-0.7477852169814622,-2.844062246659555,-1.526523802801026,-0.7446827982875802],\"z\":[-1.6458790939056285,-1.5087135663388571,-3.6853326691200805,-2.6371198947718217,-3.4526138963464668,-4.072258386304035,-1.2954893326388248,-1.7202733834299102,0.08725076940285877,-0.3526884507827611,-0.8485781258546125,0.5802642335074544,0.02463890817041412,-1.1405222058287072,1.281456135934227,-0.5122645634960179,-0.7215908093341235,-3.475229564156102,-1.0661977529216042,-1.2138623222180103,-5.317553601370142,-2.1564688207493394,1.6218687508403584,-2.6644909974137385,-6.154911193943046,0.6202808805630639,0.45269857770679023,0.45682264170807285,-0.6049271496666655,2.0186315210147647,2.546442831503052,1.2535505886993,-5.9774773890272135,-3.285290433444551,0.6731916050804114,0.38016497515930886,-0.3268497331989552,-1.439302857951118,-3.7319416184664846,2.506122820600387,-3.486326871614085,-0.7585256664120203,-2.988384036478158,1.703318066986816,-0.7878938038977576,-0.07945166685118554,0.04488208661235832,1.7340383975826401,1.674446504135163,-1.4330664310085608,0.4289145105268397,-7.87951116390426,-1.4535905574591144,-4.367599466877822,-2.126645869649385,-0.46919538088216795],\"type\":\"scatter3d\"},{\"hovertemplate\":\"color=green<br>x=%{x}<br>y=%{y}<br>z=%{z}<extra></extra>\",\"legendgroup\":\"green\",\"marker\":{\"color\":\"#00cc96\",\"symbol\":\"circle\"},\"mode\":\"markers\",\"name\":\"green\",\"scene\":\"scene\",\"showlegend\":true,\"x\":[0.6011391345845032,-3.4488213817948212,-2.7921923583845816,-3.902764026840182,-3.7435869300897053,-4.570208276375148,-2.3488343576447193,-2.3160008613228884,-0.3773874521179162,-1.7199500959366651,-4.912057810989419,-1.4281193662194185,-1.703741858511951,-0.5588098472107195,0.8049580265180047,-0.3980184172146234,-0.17311528424315453,-6.285620860355211,-0.8410237818634021,-2.2615389916543163,-1.7873952909402746,-0.2517986328517218,-1.9735058687769367,-2.6772815569450397,-4.21060174061268,-3.9284107946514792,-0.5383065560941805,-1.2694841972218405,-1.0554928685537872,-2.4220975379777743,-3.6348222499026948,-4.243546488825887,-0.11117611706125499,0.23550869132793933,-2.3389109839433284,-2.5137559656859767,1.3409041109457989,-1.5035391288790336,-2.1730753168833425,-1.1433756170151785,-0.8844925712818995,-4.127912937968743,0.928291218567756,0.9781040975396419,-1.316485193337777,-4.273821918585348,-3.073453260876365,0.9029089341945735,-0.656509455627609,-0.12575553402416437,-2.4204422715045735,-2.7457398824932047,-4.8202596111405684,-4.904855220901384,3.7940402707108354,-1.7886295664963932,2.5947429783066385,-3.6144823569803335,-6.205257217659446,-2.301427876356268,0.8226273793522976,-4.924645366958791,-1.7495347936985592],\"y\":[0.4587249705611158,-3.5192722265947767,-4.3079260478092065,-3.6194491023203783,-5.404789799067,-5.3175308427497985,-2.6079464296796457,-0.3494869857664991,-1.1162596479447044,-2.566085394691362,-4.234561266037682,-2.1831119657714564,-3.6580680841231383,2.0864039664639464,-1.951240724089119,-1.1115677694306705,-1.0031529458837836,-6.113675105183773,-1.8664901815059693,-0.08745768399841825,0.2858390184998234,0.16015225915372028,-1.6819209402497404,-3.620295117403265,-3.2946548503838473,-2.945488810210248,0.0920083176761829,-0.3080411776276278,-1.310696935654418,-0.224634923289811,-4.535273567993107,-3.4354599353949182,-0.3964360894311325,0.07245893098798775,-2.2253192060439355,-2.730410860702262,0.2882572959689769,-0.687543126140526,-2.09243525427653,-0.2440445440430108,-0.8176458372222635,-2.736495180286294,-0.009762869606502588,-0.366199446588336,-1.8831656109174706,-3.352615512112842,-2.917492949037008,0.3882863407844471,-2.909097530065774,-0.47071858726625476,-1.823654297027619,-2.2768520479940504,-2.918984684118841,-4.637047483826074,1.8966618803238826,-1.6430821106441005,2.5979243100260705,-2.817116253254986,-3.387042122980051,-1.77028568868649,1.2876358041478788,-4.801168050303548,-2.855067161204963],\"z\":[0.7473108046286916,-5.216356001464535,-5.2003917714065455,-6.077740046262081,-5.3114997229310195,-3.5239792421386147,-1.5983166892371723,-0.4743695691903661,-1.7816066114682425,-1.7404873679638082,-2.0373074991190085,-2.6868550485006617,-2.2413872829962207,1.79108364160582,-3.6010474120485747,-2.3549953338333456,-1.076201210125077,-3.6424790045372726,-1.3264754183471188,1.0287923750314774,1.2885332375419787,-0.9142955187374204,-1.786431564648892,-2.376023547277652,-2.6527858042410273,-0.8823274682230868,0.1080853026510005,1.3718016958630992,-1.066187874116588,0.8054829764514915,-0.4342611485352788,-1.2494477735496674,-2.383280907929171,-0.07734915795980911,-1.7237192943579156,-2.531997073041171,0.5695523000099361,-1.0958358020543149,-0.1604774884772808,0.4844462767516099,-2.50527862776004,-1.575375238199371,-0.6330300664770478,0.32928640508607765,-2.8321346258009727,-3.315435824491972,-1.8578256530838335,1.3966240580100893,-1.5299698298970257,0.35931955578706853,0.03937485499487146,-3.8401449869676787,-3.8372844950480625,-3.220711299815578,2.7997163289832594,-3.855462832897394,2.809496341578677,-2.6015127773829896,-5.494929121762631,-0.5292108713642004,1.2856453219239945,-5.245158036764872,-2.6096028171308934],\"type\":\"scatter3d\"},{\"hovertemplate\":\"color=yellow<br>x=%{x}<br>y=%{y}<br>z=%{z}<extra></extra>\",\"legendgroup\":\"yellow\",\"marker\":{\"color\":\"#ab63fa\",\"symbol\":\"circle\"},\"mode\":\"markers\",\"name\":\"yellow\",\"scene\":\"scene\",\"showlegend\":true,\"x\":[-0.0576880506841823,-4.740375024856794,-5.074343524853806,-1.0534375626037988,-2.703161184884056,-3.3981084246686875,-0.8652536347818828,-6.242374816838126,-4.316718570845396,-1.2339623479378294,-4.10217312837665,-0.994323194141311,-2.1562769813654485,3.1663521627876543,0.488720868540698,-3.7541864475492135,-3.831267315726172,-5.016173441838415,-2.570463596357407,-3.2204324669888758,-1.349352138061903,-0.9713384381045905,-3.1084809025574214,-1.314852181665649,-6.335442710842538,-0.7004460771475809,-4.512671279872903,-0.9644356798763571,-1.7184707230999954,-5.278630290258987,-1.8245722631973442,-4.115282141179869,-2.503667503236159,-2.4282421593025196,-1.6496484933180426,-4.313513690084278,-3.010110526421889,-1.2596359728672222,-0.7443436283438218,-4.975136382087279,0.939982577671682,0.2788680627430701,-6.4097747751393515,-1.1800942595178558,-4.134997456492244,-1.3118729594372287,-0.2456779785181275,-3.659575082891364,0.6382604691206007,-1.2442936334571493,-2.8227530342985263,-2.039358689327476,-6.231707780005609],\"y\":[0.16230410925638944,-5.356089502699226,-3.7436938890162423,-0.788068727530078,-2.7644751690030795,-2.7731358828880373,-0.8094282702938751,-2.126593079586051,-4.4075960370732705,-2.3279158347899847,-3.447482721167236,-1.3477635124523937,-1.5960694076534399,4.1426497446178,-0.6958410506500197,-3.827750070475876,-2.376928875996031,-4.868254073309045,-5.936767043954392,-5.299611561165259,-2.6584463994182346,-2.680541558330886,-3.520503854170813,-1.3012087408012067,-5.548302597857943,-0.9378832221276022,-1.2398248049060634,-1.824217111161025,-2.3518082314441933,-6.764560975932345,-3.898017446965656,-3.8305538469773692,-3.2015332831939487,-3.451107521265945,-0.7129605046400582,-1.9433870213649136,-1.61387156947086,-2.651924911618377,0.23384508749237676,-3.8863584788792727,1.4422362821530073,1.3885346252377269,-1.7567930603368094,-1.4455929264508665,-3.8528056790359697,-3.1588959435261383,-1.3985074120857857,-3.4148637475246817,-1.7430736021314661,0.053371251618398265,-4.879739797407908,-1.3768234842998146,-8.184364246317047],\"z\":[-2.207017347745463,-2.6160060021965226,-4.44539173103768,-1.2799219672726052,-0.8670041800259769,-3.204406948228521,0.24820795233125453,-4.510317174667593,-4.755149951215746,-2.6250714444627143,-2.20930452105313,-1.039208863697513,-7.814120939761824,3.6372313166500376,0.18884866534989964,-2.5559726965626695,-1.8745780410263315,-4.454145266050771,-3.8693719332466068,-3.741900923106756,-2.565232114883101,-1.842322296927159,-3.6892788968394057,-1.1940807370256958,-3.987941089178663,-2.1738486475542627,-1.684177619836338,-1.6669056517132848,-2.240152596049421,-6.5101756713427745,-5.802425956637081,-4.767094113983723,-4.352246243027454,-2.4394554430986175,-0.5510178143138951,-0.8053207680748387,0.07817579801548737,-0.6226090604555247,0.20735514613392217,-3.429111566348253,-1.1568435815573954,1.2091090188770321,-4.81294940522637,-4.316487602914332,-2.8484337758541822,-4.933626451418685,-6.702192089169432,-4.252812456119308,-2.3833796469618145,0.03278711949797104,-3.6755727177232123,-1.1837761655179855,-7.373084047812581],\"type\":\"scatter3d\"}],                        {\"template\":{\"data\":{\"histogram2dcontour\":[{\"type\":\"histogram2dcontour\",\"colorbar\":{\"outlinewidth\":0,\"ticks\":\"\"},\"colorscale\":[[0.0,\"#0d0887\"],[0.1111111111111111,\"#46039f\"],[0.2222222222222222,\"#7201a8\"],[0.3333333333333333,\"#9c179e\"],[0.4444444444444444,\"#bd3786\"],[0.5555555555555556,\"#d8576b\"],[0.6666666666666666,\"#ed7953\"],[0.7777777777777778,\"#fb9f3a\"],[0.8888888888888888,\"#fdca26\"],[1.0,\"#f0f921\"]]}],\"choropleth\":[{\"type\":\"choropleth\",\"colorbar\":{\"outlinewidth\":0,\"ticks\":\"\"}}],\"histogram2d\":[{\"type\":\"histogram2d\",\"colorbar\":{\"outlinewidth\":0,\"ticks\":\"\"},\"colorscale\":[[0.0,\"#0d0887\"],[0.1111111111111111,\"#46039f\"],[0.2222222222222222,\"#7201a8\"],[0.3333333333333333,\"#9c179e\"],[0.4444444444444444,\"#bd3786\"],[0.5555555555555556,\"#d8576b\"],[0.6666666666666666,\"#ed7953\"],[0.7777777777777778,\"#fb9f3a\"],[0.8888888888888888,\"#fdca26\"],[1.0,\"#f0f921\"]]}],\"heatmap\":[{\"type\":\"heatmap\",\"colorbar\":{\"outlinewidth\":0,\"ticks\":\"\"},\"colorscale\":[[0.0,\"#0d0887\"],[0.1111111111111111,\"#46039f\"],[0.2222222222222222,\"#7201a8\"],[0.3333333333333333,\"#9c179e\"],[0.4444444444444444,\"#bd3786\"],[0.5555555555555556,\"#d8576b\"],[0.6666666666666666,\"#ed7953\"],[0.7777777777777778,\"#fb9f3a\"],[0.8888888888888888,\"#fdca26\"],[1.0,\"#f0f921\"]]}],\"heatmapgl\":[{\"type\":\"heatmapgl\",\"colorbar\":{\"outlinewidth\":0,\"ticks\":\"\"},\"colorscale\":[[0.0,\"#0d0887\"],[0.1111111111111111,\"#46039f\"],[0.2222222222222222,\"#7201a8\"],[0.3333333333333333,\"#9c179e\"],[0.4444444444444444,\"#bd3786\"],[0.5555555555555556,\"#d8576b\"],[0.6666666666666666,\"#ed7953\"],[0.7777777777777778,\"#fb9f3a\"],[0.8888888888888888,\"#fdca26\"],[1.0,\"#f0f921\"]]}],\"contourcarpet\":[{\"type\":\"contourcarpet\",\"colorbar\":{\"outlinewidth\":0,\"ticks\":\"\"}}],\"contour\":[{\"type\":\"contour\",\"colorbar\":{\"outlinewidth\":0,\"ticks\":\"\"},\"colorscale\":[[0.0,\"#0d0887\"],[0.1111111111111111,\"#46039f\"],[0.2222222222222222,\"#7201a8\"],[0.3333333333333333,\"#9c179e\"],[0.4444444444444444,\"#bd3786\"],[0.5555555555555556,\"#d8576b\"],[0.6666666666666666,\"#ed7953\"],[0.7777777777777778,\"#fb9f3a\"],[0.8888888888888888,\"#fdca26\"],[1.0,\"#f0f921\"]]}],\"surface\":[{\"type\":\"surface\",\"colorbar\":{\"outlinewidth\":0,\"ticks\":\"\"},\"colorscale\":[[0.0,\"#0d0887\"],[0.1111111111111111,\"#46039f\"],[0.2222222222222222,\"#7201a8\"],[0.3333333333333333,\"#9c179e\"],[0.4444444444444444,\"#bd3786\"],[0.5555555555555556,\"#d8576b\"],[0.6666666666666666,\"#ed7953\"],[0.7777777777777778,\"#fb9f3a\"],[0.8888888888888888,\"#fdca26\"],[1.0,\"#f0f921\"]]}],\"mesh3d\":[{\"type\":\"mesh3d\",\"colorbar\":{\"outlinewidth\":0,\"ticks\":\"\"}}],\"scatter\":[{\"fillpattern\":{\"fillmode\":\"overlay\",\"size\":10,\"solidity\":0.2},\"type\":\"scatter\"}],\"parcoords\":[{\"type\":\"parcoords\",\"line\":{\"colorbar\":{\"outlinewidth\":0,\"ticks\":\"\"}}}],\"scatterpolargl\":[{\"type\":\"scatterpolargl\",\"marker\":{\"colorbar\":{\"outlinewidth\":0,\"ticks\":\"\"}}}],\"bar\":[{\"error_x\":{\"color\":\"#2a3f5f\"},\"error_y\":{\"color\":\"#2a3f5f\"},\"marker\":{\"line\":{\"color\":\"#E5ECF6\",\"width\":0.5},\"pattern\":{\"fillmode\":\"overlay\",\"size\":10,\"solidity\":0.2}},\"type\":\"bar\"}],\"scattergeo\":[{\"type\":\"scattergeo\",\"marker\":{\"colorbar\":{\"outlinewidth\":0,\"ticks\":\"\"}}}],\"scatterpolar\":[{\"type\":\"scatterpolar\",\"marker\":{\"colorbar\":{\"outlinewidth\":0,\"ticks\":\"\"}}}],\"histogram\":[{\"marker\":{\"pattern\":{\"fillmode\":\"overlay\",\"size\":10,\"solidity\":0.2}},\"type\":\"histogram\"}],\"scattergl\":[{\"type\":\"scattergl\",\"marker\":{\"colorbar\":{\"outlinewidth\":0,\"ticks\":\"\"}}}],\"scatter3d\":[{\"type\":\"scatter3d\",\"line\":{\"colorbar\":{\"outlinewidth\":0,\"ticks\":\"\"}},\"marker\":{\"colorbar\":{\"outlinewidth\":0,\"ticks\":\"\"}}}],\"scattermapbox\":[{\"type\":\"scattermapbox\",\"marker\":{\"colorbar\":{\"outlinewidth\":0,\"ticks\":\"\"}}}],\"scatterternary\":[{\"type\":\"scatterternary\",\"marker\":{\"colorbar\":{\"outlinewidth\":0,\"ticks\":\"\"}}}],\"scattercarpet\":[{\"type\":\"scattercarpet\",\"marker\":{\"colorbar\":{\"outlinewidth\":0,\"ticks\":\"\"}}}],\"carpet\":[{\"aaxis\":{\"endlinecolor\":\"#2a3f5f\",\"gridcolor\":\"white\",\"linecolor\":\"white\",\"minorgridcolor\":\"white\",\"startlinecolor\":\"#2a3f5f\"},\"baxis\":{\"endlinecolor\":\"#2a3f5f\",\"gridcolor\":\"white\",\"linecolor\":\"white\",\"minorgridcolor\":\"white\",\"startlinecolor\":\"#2a3f5f\"},\"type\":\"carpet\"}],\"table\":[{\"cells\":{\"fill\":{\"color\":\"#EBF0F8\"},\"line\":{\"color\":\"white\"}},\"header\":{\"fill\":{\"color\":\"#C8D4E3\"},\"line\":{\"color\":\"white\"}},\"type\":\"table\"}],\"barpolar\":[{\"marker\":{\"line\":{\"color\":\"#E5ECF6\",\"width\":0.5},\"pattern\":{\"fillmode\":\"overlay\",\"size\":10,\"solidity\":0.2}},\"type\":\"barpolar\"}],\"pie\":[{\"automargin\":true,\"type\":\"pie\"}]},\"layout\":{\"autotypenumbers\":\"strict\",\"colorway\":[\"#636efa\",\"#EF553B\",\"#00cc96\",\"#ab63fa\",\"#FFA15A\",\"#19d3f3\",\"#FF6692\",\"#B6E880\",\"#FF97FF\",\"#FECB52\"],\"font\":{\"color\":\"#2a3f5f\"},\"hovermode\":\"closest\",\"hoverlabel\":{\"align\":\"left\"},\"paper_bgcolor\":\"white\",\"plot_bgcolor\":\"#E5ECF6\",\"polar\":{\"bgcolor\":\"#E5ECF6\",\"angularaxis\":{\"gridcolor\":\"white\",\"linecolor\":\"white\",\"ticks\":\"\"},\"radialaxis\":{\"gridcolor\":\"white\",\"linecolor\":\"white\",\"ticks\":\"\"}},\"ternary\":{\"bgcolor\":\"#E5ECF6\",\"aaxis\":{\"gridcolor\":\"white\",\"linecolor\":\"white\",\"ticks\":\"\"},\"baxis\":{\"gridcolor\":\"white\",\"linecolor\":\"white\",\"ticks\":\"\"},\"caxis\":{\"gridcolor\":\"white\",\"linecolor\":\"white\",\"ticks\":\"\"}},\"coloraxis\":{\"colorbar\":{\"outlinewidth\":0,\"ticks\":\"\"}},\"colorscale\":{\"sequential\":[[0.0,\"#0d0887\"],[0.1111111111111111,\"#46039f\"],[0.2222222222222222,\"#7201a8\"],[0.3333333333333333,\"#9c179e\"],[0.4444444444444444,\"#bd3786\"],[0.5555555555555556,\"#d8576b\"],[0.6666666666666666,\"#ed7953\"],[0.7777777777777778,\"#fb9f3a\"],[0.8888888888888888,\"#fdca26\"],[1.0,\"#f0f921\"]],\"sequentialminus\":[[0.0,\"#0d0887\"],[0.1111111111111111,\"#46039f\"],[0.2222222222222222,\"#7201a8\"],[0.3333333333333333,\"#9c179e\"],[0.4444444444444444,\"#bd3786\"],[0.5555555555555556,\"#d8576b\"],[0.6666666666666666,\"#ed7953\"],[0.7777777777777778,\"#fb9f3a\"],[0.8888888888888888,\"#fdca26\"],[1.0,\"#f0f921\"]],\"diverging\":[[0,\"#8e0152\"],[0.1,\"#c51b7d\"],[0.2,\"#de77ae\"],[0.3,\"#f1b6da\"],[0.4,\"#fde0ef\"],[0.5,\"#f7f7f7\"],[0.6,\"#e6f5d0\"],[0.7,\"#b8e186\"],[0.8,\"#7fbc41\"],[0.9,\"#4d9221\"],[1,\"#276419\"]]},\"xaxis\":{\"gridcolor\":\"white\",\"linecolor\":\"white\",\"ticks\":\"\",\"title\":{\"standoff\":15},\"zerolinecolor\":\"white\",\"automargin\":true,\"zerolinewidth\":2},\"yaxis\":{\"gridcolor\":\"white\",\"linecolor\":\"white\",\"ticks\":\"\",\"title\":{\"standoff\":15},\"zerolinecolor\":\"white\",\"automargin\":true,\"zerolinewidth\":2},\"scene\":{\"xaxis\":{\"backgroundcolor\":\"#E5ECF6\",\"gridcolor\":\"white\",\"linecolor\":\"white\",\"showbackground\":true,\"ticks\":\"\",\"zerolinecolor\":\"white\",\"gridwidth\":2},\"yaxis\":{\"backgroundcolor\":\"#E5ECF6\",\"gridcolor\":\"white\",\"linecolor\":\"white\",\"showbackground\":true,\"ticks\":\"\",\"zerolinecolor\":\"white\",\"gridwidth\":2},\"zaxis\":{\"backgroundcolor\":\"#E5ECF6\",\"gridcolor\":\"white\",\"linecolor\":\"white\",\"showbackground\":true,\"ticks\":\"\",\"zerolinecolor\":\"white\",\"gridwidth\":2}},\"shapedefaults\":{\"line\":{\"color\":\"#2a3f5f\"}},\"annotationdefaults\":{\"arrowcolor\":\"#2a3f5f\",\"arrowhead\":0,\"arrowwidth\":1},\"geo\":{\"bgcolor\":\"white\",\"landcolor\":\"#E5ECF6\",\"subunitcolor\":\"white\",\"showland\":true,\"showlakes\":true,\"lakecolor\":\"white\"},\"title\":{\"x\":0.05},\"mapbox\":{\"style\":\"light\"}}},\"scene\":{\"domain\":{\"x\":[0.0,1.0],\"y\":[0.0,1.0]},\"xaxis\":{\"title\":{\"text\":\"x\"}},\"yaxis\":{\"title\":{\"text\":\"y\"}},\"zaxis\":{\"title\":{\"text\":\"z\"}}},\"legend\":{\"title\":{\"text\":\"color\"},\"tracegroupgap\":0},\"margin\":{\"t\":60}},                        {\"responsive\": true}                    ).then(function(){\n",
       "                            \n",
       "var gd = document.getElementById('52115912-b8f9-4dc0-a624-d522bac6f080');\n",
       "var x = new MutationObserver(function (mutations, observer) {{\n",
       "        var display = window.getComputedStyle(gd).display;\n",
       "        if (!display || display === 'none') {{\n",
       "            console.log([gd, 'removed!']);\n",
       "            Plotly.purge(gd);\n",
       "            observer.disconnect();\n",
       "        }}\n",
       "}});\n",
       "\n",
       "// Listen for the removal of the full notebook cells\n",
       "var notebookContainer = gd.closest('#notebook-container');\n",
       "if (notebookContainer) {{\n",
       "    x.observe(notebookContainer, {childList: true});\n",
       "}}\n",
       "\n",
       "// Listen for the clearing of the current output cell\n",
       "var outputEl = gd.closest('.output');\n",
       "if (outputEl) {{\n",
       "    x.observe(outputEl, {childList: true});\n",
       "}}\n",
       "\n",
       "                        })                };                });            </script>        </div>"
      ]
     },
     "metadata": {},
     "output_type": "display_data"
    }
   ],
   "source": [
    "color = [\"red\",\"blue\",\"green\",\"yellow\"]\n",
    "df = pd.DataFrame({\"x\":[],\"y\":[],\"z\":[],\"color\":[]})\n",
    "for i in range(len(directories)):\n",
    "    lis = os.listdir(directories[i])\n",
    "    mfccx = []\n",
    "    mfccy = []\n",
    "    mfccz = []\n",
    "    for n in lis:\n",
    "        index = 10\n",
    "        sr, audio = read(directories[i]+'/'+n)\n",
    "        mfcc_feature = mfcc.mfcc(audio, sr, 0.025, 0.01, 20, nfft=1200, appendEnergy=True)\n",
    "        row = [mfcc_feature[index].mean(),mfcc_feature[index+1].mean(),mfcc_feature[index+2].mean(), color[i]]\n",
    "        df.loc[len(df)] = row\n",
    "\n",
    "\n",
    "\n",
    "    \n",
    "\n",
    "fig = px.scatter_3d(df, x='x', y='y', z='z',color='color')\n",
    "fig.show()"
   ]
  },
  {
   "cell_type": "code",
   "execution_count": 71,
   "id": "f5dc89ab",
   "metadata": {},
   "outputs": [
    {
     "data": {
      "text/html": [
       "<div>\n",
       "<style scoped>\n",
       "    .dataframe tbody tr th:only-of-type {\n",
       "        vertical-align: middle;\n",
       "    }\n",
       "\n",
       "    .dataframe tbody tr th {\n",
       "        vertical-align: top;\n",
       "    }\n",
       "\n",
       "    .dataframe thead th {\n",
       "        text-align: right;\n",
       "    }\n",
       "</style>\n",
       "<table border=\"1\" class=\"dataframe\">\n",
       "  <thead>\n",
       "    <tr style=\"text-align: right;\">\n",
       "      <th></th>\n",
       "      <th>x</th>\n",
       "      <th>y</th>\n",
       "      <th>z</th>\n",
       "      <th>color</th>\n",
       "    </tr>\n",
       "  </thead>\n",
       "  <tbody>\n",
       "    <tr>\n",
       "      <th>0</th>\n",
       "      <td>-2.178760</td>\n",
       "      <td>-2.142227</td>\n",
       "      <td>-3.097331</td>\n",
       "      <td>red</td>\n",
       "    </tr>\n",
       "    <tr>\n",
       "      <th>1</th>\n",
       "      <td>-2.612513</td>\n",
       "      <td>-2.868153</td>\n",
       "      <td>-1.627147</td>\n",
       "      <td>red</td>\n",
       "    </tr>\n",
       "    <tr>\n",
       "      <th>2</th>\n",
       "      <td>-2.968544</td>\n",
       "      <td>-3.081933</td>\n",
       "      <td>-2.296937</td>\n",
       "      <td>red</td>\n",
       "    </tr>\n",
       "    <tr>\n",
       "      <th>3</th>\n",
       "      <td>-4.484254</td>\n",
       "      <td>-3.085250</td>\n",
       "      <td>-3.298370</td>\n",
       "      <td>red</td>\n",
       "    </tr>\n",
       "    <tr>\n",
       "      <th>4</th>\n",
       "      <td>-2.755533</td>\n",
       "      <td>-1.740040</td>\n",
       "      <td>-3.815270</td>\n",
       "      <td>red</td>\n",
       "    </tr>\n",
       "    <tr>\n",
       "      <th>...</th>\n",
       "      <td>...</td>\n",
       "      <td>...</td>\n",
       "      <td>...</td>\n",
       "      <td>...</td>\n",
       "    </tr>\n",
       "    <tr>\n",
       "      <th>234</th>\n",
       "      <td>-1.005343</td>\n",
       "      <td>-3.539163</td>\n",
       "      <td>-2.553814</td>\n",
       "      <td>yellow</td>\n",
       "    </tr>\n",
       "    <tr>\n",
       "      <th>235</th>\n",
       "      <td>-2.102054</td>\n",
       "      <td>-1.497110</td>\n",
       "      <td>-1.348992</td>\n",
       "      <td>yellow</td>\n",
       "    </tr>\n",
       "    <tr>\n",
       "      <th>236</th>\n",
       "      <td>1.811827</td>\n",
       "      <td>-2.673512</td>\n",
       "      <td>-2.058864</td>\n",
       "      <td>yellow</td>\n",
       "    </tr>\n",
       "    <tr>\n",
       "      <th>237</th>\n",
       "      <td>0.354251</td>\n",
       "      <td>-2.445750</td>\n",
       "      <td>-1.637302</td>\n",
       "      <td>yellow</td>\n",
       "    </tr>\n",
       "    <tr>\n",
       "      <th>238</th>\n",
       "      <td>-3.677132</td>\n",
       "      <td>-4.998252</td>\n",
       "      <td>-6.524831</td>\n",
       "      <td>yellow</td>\n",
       "    </tr>\n",
       "  </tbody>\n",
       "</table>\n",
       "<p>239 rows × 4 columns</p>\n",
       "</div>"
      ],
      "text/plain": [
       "            x         y         z   color\n",
       "0   -2.178760 -2.142227 -3.097331     red\n",
       "1   -2.612513 -2.868153 -1.627147     red\n",
       "2   -2.968544 -3.081933 -2.296937     red\n",
       "3   -4.484254 -3.085250 -3.298370     red\n",
       "4   -2.755533 -1.740040 -3.815270     red\n",
       "..        ...       ...       ...     ...\n",
       "234 -1.005343 -3.539163 -2.553814  yellow\n",
       "235 -2.102054 -1.497110 -1.348992  yellow\n",
       "236  1.811827 -2.673512 -2.058864  yellow\n",
       "237  0.354251 -2.445750 -1.637302  yellow\n",
       "238 -3.677132 -4.998252 -6.524831  yellow\n",
       "\n",
       "[239 rows x 4 columns]"
      ]
     },
     "execution_count": 71,
     "metadata": {},
     "output_type": "execute_result"
    }
   ],
   "source": [
    "df"
   ]
  },
  {
   "cell_type": "code",
   "execution_count": 60,
   "id": "d9c42816",
   "metadata": {},
   "outputs": [
    {
     "data": {
      "text/html": [
       "<div>\n",
       "<style scoped>\n",
       "    .dataframe tbody tr th:only-of-type {\n",
       "        vertical-align: middle;\n",
       "    }\n",
       "\n",
       "    .dataframe tbody tr th {\n",
       "        vertical-align: top;\n",
       "    }\n",
       "\n",
       "    .dataframe thead th {\n",
       "        text-align: right;\n",
       "    }\n",
       "</style>\n",
       "<table border=\"1\" class=\"dataframe\">\n",
       "  <thead>\n",
       "    <tr style=\"text-align: right;\">\n",
       "      <th></th>\n",
       "      <th>x</th>\n",
       "      <th>y</th>\n",
       "      <th>z</th>\n",
       "      <th>color</th>\n",
       "    </tr>\n",
       "  </thead>\n",
       "  <tbody>\n",
       "  </tbody>\n",
       "</table>\n",
       "</div>"
      ],
      "text/plain": [
       "Empty DataFrame\n",
       "Columns: [x, y, z, color]\n",
       "Index: []"
      ]
     },
     "execution_count": 60,
     "metadata": {},
     "output_type": "execute_result"
    }
   ],
   "source": [
    "df"
   ]
  },
  {
   "cell_type": "code",
   "execution_count": null,
   "id": "ffa9d5cf",
   "metadata": {},
   "outputs": [],
   "source": []
  }
 ],
 "metadata": {
  "kernelspec": {
   "display_name": "Python 3 (ipykernel)",
   "language": "python",
   "name": "python3"
  },
  "language_info": {
   "codemirror_mode": {
    "name": "ipython",
    "version": 3
   },
   "file_extension": ".py",
   "mimetype": "text/x-python",
   "name": "python",
   "nbconvert_exporter": "python",
   "pygments_lexer": "ipython3",
   "version": "3.10.8"
  }
 },
 "nbformat": 4,
 "nbformat_minor": 5
}
