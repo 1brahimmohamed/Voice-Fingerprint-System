{
 "cells": [
  {
   "cell_type": "code",
   "execution_count": 2,
   "id": "f14ebf05",
   "metadata": {
    "pycharm": {
     "name": "#%%\n"
    }
   },
   "outputs": [],
   "source": [
    "import pandas as pd\n",
    "import python_speech_features as mfcc\n",
    "import os\n",
    "import matplotlib.pyplot as plt\n",
    "from scipy.io.wavfile import read\n",
    "from sklearn import preprocessing\n",
    "from mpl_toolkits import mplot3d\n",
    "import librosa\n",
    "import plotly.express as px\n"
   ]
  },
  {
   "cell_type": "code",
   "execution_count": 5,
   "id": "d7fec5e5",
   "metadata": {
    "pycharm": {
     "name": "#%%\n"
    }
   },
   "outputs": [
    {
     "data": {
      "text/plain": "<Figure size 432x288 with 1 Axes>",
      "image/png": "[encoded data removed]"
     },
     "metadata": {
      "needs_background": "light"
     },
     "output_type": "display_data"
    }
   ],
   "source": [
    "amr = \"Website Data/Amr\"\n",
    "ibrahim = \"./Website Data/Ibrahim\"\n",
    "Momen = \"./Website Data/Momen\"\n",
    "Mariam = \"./Website Data/Mariam\"\n",
    "directories = [Mariam,  ibrahim,Momen,amr]\n",
    "names = [\"Mariam\",  \"ibrahim\",\"Momen\",\"amr\"]\n",
    "color = [\"red\",\"blue\",\"green\",\"yellow\"]\n",
    "averages = [[],[],[],[]]\n",
    "df = pd.DataFrame({\"avg\":[],\"color\":[]})\n",
    "\n",
    "for i in range(len(directories)):\n",
    "    \n",
    "    count = 0\n",
    "\n",
    "    lis = os.listdir(directories[i])\n",
    "    for n in lis:\n",
    "        if count >9:\n",
    "            break\n",
    "        sr, audio = read(directories[i]+'/'+n)\n",
    "        mfcc_feature = mfcc.mfcc(audio, sr, 0.025, 0.01, 20, nfft=1200, appendEnergy=True)\n",
    "\n",
    "\n",
    "        for arr in mfcc_feature:\n",
    "            averages[i].append(arr.mean())\n",
    "            df.loc[len(df)] = [arr.mean(),names[i]]\n",
    "\n",
    "        count +=1\n",
    "\n",
    "\n",
    "\n",
    "\n",
    "df.to_csv('GfG.csv', index = False)\n",
    "\n",
    "\n"
   ]
  },
  {
   "cell_type": "code",
   "execution_count": 6,
   "outputs": [
    {
     "data": {
      "text/plain": "(array([ 2.,  0.,  1.,  0.,  0.,  1.,  1.,  1.,  2.,  0.,  3.,  2.,  3.,\n         1.,  1.,  4.,  3.,  4.,  3.,  2.,  3.,  6.,  4.,  9.,  7.,  9.,\n         9., 16., 15., 31., 20., 22., 38., 24., 34., 38., 31., 50., 50.,\n        64., 55., 84., 65., 65., 61., 67., 80., 69., 76., 80., 70., 74.,\n        82., 80., 65., 79., 57., 51., 56., 48., 47., 48., 36., 35., 36.,\n        40., 35., 33., 34., 19., 26., 26., 25., 17., 20., 21., 22., 22.,\n        15., 14., 12.,  9., 10.,  7.,  3.,  8.,  5., 10.,  4.,  5.,  1.,\n         3.,  3.,  5.,  1.,  0.,  0.,  1.,  2.,  1.]),\n array([-9.12844609, -8.99203592, -8.85562576, -8.71921559, -8.58280543,\n        -8.44639526, -8.3099851 , -8.17357493, -8.03716477, -7.9007546 ,\n        -7.76434444, -7.62793427, -7.49152411, -7.35511394, -7.21870378,\n        -7.08229361, -6.94588345, -6.80947328, -6.67306312, -6.53665295,\n        -6.40024279, -6.26383262, -6.12742246, -5.99101229, -5.85460213,\n        -5.71819196, -5.5817818 , -5.44537163, -5.30896147, -5.1725513 ,\n        -5.03614114, -4.89973097, -4.76332081, -4.62691064, -4.49050048,\n        -4.35409031, -4.21768015, -4.08126998, -3.94485982, -3.80844965,\n        -3.67203949, -3.53562932, -3.39921916, -3.26280899, -3.12639883,\n        -2.98998866, -2.8535785 , -2.71716833, -2.58075817, -2.444348  ,\n        -2.30793784, -2.17152767, -2.03511751, -1.89870734, -1.76229718,\n        -1.62588701, -1.48947685, -1.35306668, -1.21665652, -1.08024635,\n        -0.94383619, -0.80742602, -0.67101586, -0.53460569, -0.39819553,\n        -0.26178536, -0.1253752 ,  0.01103497,  0.14744513,  0.2838553 ,\n         0.42026546,  0.55667563,  0.69308579,  0.82949596,  0.96590612,\n         1.10231629,  1.23872645,  1.37513662,  1.51154678,  1.64795695,\n         1.78436711,  1.92077728,  2.05718744,  2.19359761,  2.33000777,\n         2.46641794,  2.6028281 ,  2.73923827,  2.87564843,  3.0120586 ,\n         3.14846876,  3.28487893,  3.42128909,  3.55769926,  3.69410942,\n         3.83051959,  3.96692975,  4.10333992,  4.23975008,  4.37616025,\n         4.51257041]),\n <BarContainer object of 100 artists>)"
     },
     "execution_count": 6,
     "metadata": {},
     "output_type": "execute_result"
    },
    {
     "data": {
      "text/plain": "<Figure size 432x288 with 1 Axes>",
      "image/png": "[encoded data removed]"
     },
     "metadata": {
      "needs_background": "light"
     },
     "output_type": "display_data"
    }
   ],
   "source": [
    "plt.hist(averages[0],color =color[0], bins=100)\n",
    "plt.hist(averages[1],color =color[1], bins=100)\n",
    "plt.hist(averages[2],color =color[2], bins=100)\n",
    "plt.hist(averages[3],color = color[3], bins=100)"
   ],
   "metadata": {
    "collapsed": false,
    "pycharm": {
     "name": "#%%\n"
    }
   }
  },
  {
   "cell_type": "code",
   "execution_count": null,
   "id": "bceac60e",
   "metadata": {
    "pycharm": {
     "name": "#%%\n"
    }
   },
   "outputs": [],
   "source": [
    "pd.read_csv('GfG.csv')"
   ]
  },
  {
   "cell_type": "code",
   "execution_count": null,
   "id": "cae2fae2",
   "metadata": {
    "pycharm": {
     "name": "#%%\n"
    }
   },
   "outputs": [],
   "source": [
    "\n",
    "plt.hist(averages[3],color = color[3], bins=100)\n",
    "plt.hist(averages[1],color =color[1], bins=100)\n",
    "plt.hist(averages[2],color =color[2], bins=100)\n",
    "plt.hist(averages[0],color =color[0], bins=100)"
   ]
  },
  {
   "cell_type": "code",
   "execution_count": null,
   "id": "0f271044",
   "metadata": {
    "scrolled": true,
    "pycharm": {
     "name": "#%%\n"
    }
   },
   "outputs": [],
   "source": [
    "color = [\"red\",\"blue\",\"green\",\"yellow\"]\n",
    "df = pd.DataFrame({\"x\":[],\"y\":[],\"z\":[],\"color\":[]})\n",
    "for i in range(len(directories)):\n",
    "    lis = os.listdir(directories[i])\n",
    "    mfccx = []\n",
    "    mfccy = []\n",
    "    mfccz = []\n",
    "    for n in lis:\n",
    "        index = 0\n",
    "        sr, audio = read(directories[i]+'/'+n)\n",
    "        mfcc_feature = mfcc.mfcc(audio, sr, 0.025, 0.01, 20, nfft=1200, appendEnergy=True)\n",
    "        row = [mfcc_feature[index].mean(),mfcc_feature[index+1].mean(),mfcc_feature[index+2].mean(), color[i]]\n",
    "        df.loc[len(df)] = row\n",
    "\n",
    "\n",
    "\n",
    "    \n",
    "\n",
    "px.scatter_3d(df, x='x', y='y', z='z',color='color')\n",
    "df.to_csv(\"3d.csv\",index=False)\n"
   ]
  },
  {
   "cell_type": "code",
   "execution_count": null,
   "id": "f5dc89ab",
   "metadata": {
    "pycharm": {
     "name": "#%%\n"
    }
   },
   "outputs": [],
   "source": [
    "df"
   ]
  },
  {
   "cell_type": "code",
   "execution_count": null,
   "id": "d9c42816",
   "metadata": {
    "pycharm": {
     "name": "#%%\n"
    }
   },
   "outputs": [],
   "source": [
    "df"
   ]
  },
  {
   "cell_type": "code",
   "execution_count": null,
   "id": "ffa9d5cf",
   "metadata": {
    "pycharm": {
     "name": "#%%\n"
    }
   },
   "outputs": [],
   "source": []
  }
 ],
 "metadata": {
  "kernelspec": {
   "display_name": "Python 3 (ipykernel)",
   "language": "python",
   "name": "python3"
  },
  "language_info": {
   "codemirror_mode": {
    "name": "ipython",
    "version": 3
   },
   "file_extension": ".py",
   "mimetype": "text/x-python",
   "name": "python",
   "nbconvert_exporter": "python",
   "pygments_lexer": "ipython3",
   "version": "3.10.8"
  }
 },
 "nbformat": 4,
 "nbformat_minor": 5
}