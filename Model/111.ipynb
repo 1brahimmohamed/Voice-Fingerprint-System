{
 "cells": [
  {
   "cell_type": "code",
   "execution_count": 1,
   "id": "f14ebf05",
   "metadata": {
    "pycharm": {
     "name": "#%%\n"
    }
   },
   "outputs": [],
   "source": [
    "import pandas as pd\n",
    "import python_speech_features as mfcc\n",
    "import os\n",
    "import matplotlib.pyplot as plt\n",
    "from scipy.io.wavfile import read\n",
    "from sklearn import preprocessing\n",
    "from mpl_toolkits import mplot3d\n",
    "import librosa\n",
    "import plotly.express as px\n"
   ]
  },
  {
   "cell_type": "code",
   "execution_count": 2,
   "id": "d7fec5e5",
   "metadata": {
    "pycharm": {
     "name": "#%%\n"
    }
   },
   "outputs": [],
   "source": [
    "amr = \"Website Data/Amr\"\n",
    "ibrahim = \"./Website Data/Ibrahim\"\n",
    "Momen = \"./Website Data/Momen\"\n",
    "Mariam = \"./Website Data/Mariam\"\n",
    "directories = [Mariam,  ibrahim,Momen,amr]\n",
    "names = [\"Mariam\",  \"ibrahim\",\"Momen\",\"amr\"]\n",
    "color = [\"green\",\"blue\",\"yellow\",\"red\"]\n",
    "averages = [[],[],[],[]]\n",
    "df = pd.DataFrame({\"avg\":[],\"color\":[]})\n",
    "\n",
    "for i in range(len(directories)):\n",
    "    \n",
    "    count = 0\n",
    "\n",
    "    lis = os.listdir(directories[i])\n",
    "    for n in lis:\n",
    "        if count >9:\n",
    "            break\n",
    "        sr, audio = read(directories[i]+'/'+n)\n",
    "        mfcc_feature = mfcc.mfcc(audio, sr, 0.025, 0.01, 20, nfft=1200, appendEnergy=True)\n",
    "\n",
    "\n",
    "        for arr in mfcc_feature:\n",
    "            averages[i].append(arr.mean())\n",
    "            df.loc[len(df)] = [arr.mean(),names[i]]\n",
    "\n",
    "        count +=1\n",
    "\n",
    "df.to_csv('GfG.csv', index = False)\n",
    "\n",
    "\n"
   ]
  },
  {
   "cell_type": "code",
   "execution_count": 3,
   "outputs": [
    {
     "data": {
      "text/plain": "(array([ 2.,  0.,  1.,  0.,  0.,  1.,  1.,  1.,  2.,  0.,  3.,  2.,  3.,\n         1.,  1.,  4.,  3.,  4.,  3.,  2.,  3.,  6.,  4.,  9.,  7.,  9.,\n         9., 16., 15., 31., 20., 22., 38., 24., 34., 38., 31., 50., 50.,\n        64., 55., 84., 65., 65., 61., 67., 80., 69., 76., 80., 70., 74.,\n        82., 80., 65., 79., 57., 51., 56., 48., 47., 48., 36., 35., 36.,\n        40., 35., 33., 34., 19., 26., 26., 25., 17., 20., 21., 22., 22.,\n        15., 14., 12.,  9., 10.,  7.,  3.,  8.,  5., 10.,  4.,  5.,  1.,\n         3.,  3.,  5.,  1.,  0.,  0.,  1.,  2.,  1.]),\n array([-9.12844609, -8.99203592, -8.85562576, -8.71921559, -8.58280543,\n        -8.44639526, -8.3099851 , -8.17357493, -8.03716477, -7.9007546 ,\n        -7.76434444, -7.62793427, -7.49152411, -7.35511394, -7.21870378,\n        -7.08229361, -6.94588345, -6.80947328, -6.67306312, -6.53665295,\n        -6.40024279, -6.26383262, -6.12742246, -5.99101229, -5.85460213,\n        -5.71819196, -5.5817818 , -5.44537163, -5.30896147, -5.1725513 ,\n        -5.03614114, -4.89973097, -4.76332081, -4.62691064, -4.49050048,\n        -4.35409031, -4.21768015, -4.08126998, -3.94485982, -3.80844965,\n        -3.67203949, -3.53562932, -3.39921916, -3.26280899, -3.12639883,\n        -2.98998866, -2.8535785 , -2.71716833, -2.58075817, -2.444348  ,\n        -2.30793784, -2.17152767, -2.03511751, -1.89870734, -1.76229718,\n        -1.62588701, -1.48947685, -1.35306668, -1.21665652, -1.08024635,\n        -0.94383619, -0.80742602, -0.67101586, -0.53460569, -0.39819553,\n        -0.26178536, -0.1253752 ,  0.01103497,  0.14744513,  0.2838553 ,\n         0.42026546,  0.55667563,  0.69308579,  0.82949596,  0.96590612,\n         1.10231629,  1.23872645,  1.37513662,  1.51154678,  1.64795695,\n         1.78436711,  1.92077728,  2.05718744,  2.19359761,  2.33000777,\n         2.46641794,  2.6028281 ,  2.73923827,  2.87564843,  3.0120586 ,\n         3.14846876,  3.28487893,  3.42128909,  3.55769926,  3.69410942,\n         3.83051959,  3.96692975,  4.10333992,  4.23975008,  4.37616025,\n         4.51257041]),\n <BarContainer object of 100 artists>)"
     },
     "execution_count": 3,
     "metadata": {},
     "output_type": "execute_result"
    },
    {
     "data": {
      "text/plain": "<Figure size 432x288 with 1 Axes>",
      "image/png": "[encoded data removed]"
     },
     "metadata": {
      "needs_background": "light"
     },
     "output_type": "display_data"
    }
   ],
   "source": [
    "plt.hist(averages[0],color =color[0], bins=100)\n",
    "plt.hist(averages[1],color =color[1], bins=100)\n",
    "plt.hist(averages[2],color =color[2], bins=100)\n",
    "plt.hist(averages[3],color = color[3], bins=100)"
   ],
   "metadata": {
    "collapsed": false,
    "pycharm": {
     "name": "#%%\n"
    }
   }
  },
  {
   "cell_type": "code",
   "execution_count": 4,
   "id": "bceac60e",
   "metadata": {
    "pycharm": {
     "name": "#%%\n"
    }
   },
   "outputs": [
    {
     "data": {
      "text/plain": "            avg   color\n0     -1.391623  Mariam\n1     -4.028828  Mariam\n2     -3.932844  Mariam\n3     -2.421361  Mariam\n4     -3.587060  Mariam\n...         ...     ...\n10355 -4.059544     amr\n10356 -2.291535     amr\n10357 -2.187816     amr\n10358 -5.740982     amr\n10359 -4.669993     amr\n\n[10360 rows x 2 columns]",
      "text/html": "<div>\n<style scoped>\n    .dataframe tbody tr th:only-of-type {\n        vertical-align: middle;\n    }\n\n    .dataframe tbody tr th {\n        vertical-align: top;\n    }\n\n    .dataframe thead th {\n        text-align: right;\n    }\n</style>\n<table border=\"1\" class=\"dataframe\">\n  <thead>\n    <tr style=\"text-align: right;\">\n      <th></th>\n      <th>avg</th>\n      <th>color</th>\n    </tr>\n  </thead>\n  <tbody>\n    <tr>\n      <th>0</th>\n      <td>-1.391623</td>\n      <td>Mariam</td>\n    </tr>\n    <tr>\n      <th>1</th>\n      <td>-4.028828</td>\n      <td>Mariam</td>\n    </tr>\n    <tr>\n      <th>2</th>\n      <td>-3.932844</td>\n      <td>Mariam</td>\n    </tr>\n    <tr>\n      <th>3</th>\n      <td>-2.421361</td>\n      <td>Mariam</td>\n    </tr>\n    <tr>\n      <th>4</th>\n      <td>-3.587060</td>\n      <td>Mariam</td>\n    </tr>\n    <tr>\n      <th>...</th>\n      <td>...</td>\n      <td>...</td>\n    </tr>\n    <tr>\n      <th>10355</th>\n      <td>-4.059544</td>\n      <td>amr</td>\n    </tr>\n    <tr>\n      <th>10356</th>\n      <td>-2.291535</td>\n      <td>amr</td>\n    </tr>\n    <tr>\n      <th>10357</th>\n      <td>-2.187816</td>\n      <td>amr</td>\n    </tr>\n    <tr>\n      <th>10358</th>\n      <td>-5.740982</td>\n      <td>amr</td>\n    </tr>\n    <tr>\n      <th>10359</th>\n      <td>-4.669993</td>\n      <td>amr</td>\n    </tr>\n  </tbody>\n</table>\n<p>10360 rows × 2 columns</p>\n</div>"
     },
     "execution_count": 4,
     "metadata": {},
     "output_type": "execute_result"
    }
   ],
   "source": [
    "pd.read_csv('GfG.csv')"
   ]
  },
  {
   "cell_type": "code",
   "execution_count": 5,
   "id": "cae2fae2",
   "metadata": {
    "pycharm": {
     "name": "#%%\n"
    }
   },
   "outputs": [
    {
     "data": {
      "text/plain": "(array([  1.,   0.,   0.,   0.,   0.,   0.,   0.,   0.,   0.,   0.,   2.,\n          0.,   0.,   3.,   3.,   2.,   5.,   3.,   8.,   3.,   4.,   4.,\n         12.,   8.,   8.,   8.,   8.,  10.,  14.,  23.,  23.,  24.,  31.,\n         41.,  40.,  44.,  47.,  62.,  55.,  52.,  73.,  84.,  81., 109.,\n         98., 128., 104., 116., 134., 126., 127., 127., 116.,  96., 113.,\n         77.,  50.,  44.,  32.,  43.,  31.,  13.,  14.,  12.,  12.,   5.,\n          5.,   6.,   4.,   1.,   2.,   0.,   1.,   5.,   1.,   1.,   2.,\n          2.,   2.,   2.,   1.,   3.,   1.,   6.,   2.,   4.,   2.,   2.,\n          5.,   1.,   1.,   1.,   3.,   0.,   1.,   1.,   2.,   0.,   1.,\n          1.]),\n array([-13.2151299 , -12.99167801, -12.76822612, -12.54477424,\n        -12.32132235, -12.09787046, -11.87441858, -11.65096669,\n        -11.42751481, -11.20406292, -10.98061103, -10.75715915,\n        -10.53370726, -10.31025537, -10.08680349,  -9.8633516 ,\n         -9.63989971,  -9.41644783,  -9.19299594,  -8.96954406,\n         -8.74609217,  -8.52264028,  -8.2991884 ,  -8.07573651,\n         -7.85228462,  -7.62883274,  -7.40538085,  -7.18192896,\n         -6.95847708,  -6.73502519,  -6.5115733 ,  -6.28812142,\n         -6.06466953,  -5.84121765,  -5.61776576,  -5.39431387,\n         -5.17086199,  -4.9474101 ,  -4.72395821,  -4.50050633,\n         -4.27705444,  -4.05360255,  -3.83015067,  -3.60669878,\n         -3.38324689,  -3.15979501,  -2.93634312,  -2.71289124,\n         -2.48943935,  -2.26598746,  -2.04253558,  -1.81908369,\n         -1.5956318 ,  -1.37217992,  -1.14872803,  -0.92527614,\n         -0.70182426,  -0.47837237,  -0.25492049,  -0.0314686 ,\n          0.19198329,   0.41543517,   0.63888706,   0.86233895,\n          1.08579083,   1.30924272,   1.53269461,   1.75614649,\n          1.97959838,   2.20305027,   2.42650215,   2.64995404,\n          2.87340592,   3.09685781,   3.3203097 ,   3.54376158,\n          3.76721347,   3.99066536,   4.21411724,   4.43756913,\n          4.66102102,   4.8844729 ,   5.10792479,   5.33137667,\n          5.55482856,   5.77828045,   6.00173233,   6.22518422,\n          6.44863611,   6.67208799,   6.89553988,   7.11899177,\n          7.34244365,   7.56589554,   7.78934743,   8.01279931,\n          8.2362512 ,   8.45970308,   8.68315497,   8.90660686,\n          9.13005874]),\n <BarContainer object of 100 artists>)"
     },
     "execution_count": 5,
     "metadata": {},
     "output_type": "execute_result"
    },
    {
     "data": {
      "text/plain": "<Figure size 432x288 with 1 Axes>",
      "image/png": "[encoded data removed]"
     },
     "metadata": {
      "needs_background": "light"
     },
     "output_type": "display_data"
    }
   ],
   "source": [
    "\n",
    "plt.hist(averages[3],color = color[3], bins=100)\n",
    "plt.hist(averages[1],color =color[1], bins=100)\n",
    "plt.hist(averages[2],color =color[2], bins=100)\n",
    "plt.hist(averages[0],color =color[0], bins=100)"
   ]
  },
  {
   "cell_type": "code",
   "execution_count": 6,
   "id": "0f271044",
   "metadata": {
    "scrolled": true,
    "pycharm": {
     "name": "#%%\n"
    }
   },
   "outputs": [],
   "source": [
    "color = [\"red\",\"blue\",\"green\",\"yellow\"]\n",
    "df = pd.DataFrame({\"x\":[],\"y\":[],\"z\":[],\"color\":[]})\n",
    "for i in range(len(directories)):\n",
    "    lis = os.listdir(directories[i])\n",
    "    mfccx = []\n",
    "    mfccy = []\n",
    "    mfccz = []\n",
    "    for n in lis:\n",
    "        index = 0\n",
    "        sr, audio = read(directories[i]+'/'+n)\n",
    "        mfcc_feature = mfcc.mfcc(audio, sr, 0.025, 0.01, 20, nfft=1200, appendEnergy=True)\n",
    "        row = [mfcc_feature[index].mean(),mfcc_feature[index+1].mean(),mfcc_feature[index+2].mean(), color[i]]\n",
    "        df.loc[len(df)] = row\n",
    "\n",
    "\n",
    "\n",
    "    \n",
    "\n",
    "px.scatter_3d(df, x='x', y='y', z='z',color='color')\n",
    "df.to_csv(\"3d.csv\",index=False)\n"
   ]
  },
  {
   "cell_type": "code",
   "execution_count": 7,
   "id": "f5dc89ab",
   "metadata": {
    "pycharm": {
     "name": "#%%\n"
    }
   },
   "outputs": [
    {
     "data": {
      "text/plain": "            x         y         z   color\n0   -1.391623 -4.028828 -3.932844     red\n1    0.025920  0.727899  0.943035     red\n2   -1.506207 -1.617614 -5.652935     red\n3   -1.481130 -1.088885 -1.685452     red\n4   -1.073461 -2.549874 -1.686836     red\n..        ...       ...       ...     ...\n234 -3.214260  0.036627  0.945533  yellow\n235 -3.118036 -4.137279 -2.579064  yellow\n236 -7.933634 -1.325091 -0.321098  yellow\n237 -3.947792 -2.652352 -2.712513  yellow\n238 -1.307176 -1.746273 -3.096693  yellow\n\n[239 rows x 4 columns]",
      "text/html": "<div>\n<style scoped>\n    .dataframe tbody tr th:only-of-type {\n        vertical-align: middle;\n    }\n\n    .dataframe tbody tr th {\n        vertical-align: top;\n    }\n\n    .dataframe thead th {\n        text-align: right;\n    }\n</style>\n<table border=\"1\" class=\"dataframe\">\n  <thead>\n    <tr style=\"text-align: right;\">\n      <th></th>\n      <th>x</th>\n      <th>y</th>\n      <th>z</th>\n      <th>color</th>\n    </tr>\n  </thead>\n  <tbody>\n    <tr>\n      <th>0</th>\n      <td>-1.391623</td>\n      <td>-4.028828</td>\n      <td>-3.932844</td>\n      <td>red</td>\n    </tr>\n    <tr>\n      <th>1</th>\n      <td>0.025920</td>\n      <td>0.727899</td>\n      <td>0.943035</td>\n      <td>red</td>\n    </tr>\n    <tr>\n      <th>2</th>\n      <td>-1.506207</td>\n      <td>-1.617614</td>\n      <td>-5.652935</td>\n      <td>red</td>\n    </tr>\n    <tr>\n      <th>3</th>\n      <td>-1.481130</td>\n      <td>-1.088885</td>\n      <td>-1.685452</td>\n      <td>red</td>\n    </tr>\n    <tr>\n      <th>4</th>\n      <td>-1.073461</td>\n      <td>-2.549874</td>\n      <td>-1.686836</td>\n      <td>red</td>\n    </tr>\n    <tr>\n      <th>...</th>\n      <td>...</td>\n      <td>...</td>\n      <td>...</td>\n      <td>...</td>\n    </tr>\n    <tr>\n      <th>234</th>\n      <td>-3.214260</td>\n      <td>0.036627</td>\n      <td>0.945533</td>\n      <td>yellow</td>\n    </tr>\n    <tr>\n      <th>235</th>\n      <td>-3.118036</td>\n      <td>-4.137279</td>\n      <td>-2.579064</td>\n      <td>yellow</td>\n    </tr>\n    <tr>\n      <th>236</th>\n      <td>-7.933634</td>\n      <td>-1.325091</td>\n      <td>-0.321098</td>\n      <td>yellow</td>\n    </tr>\n    <tr>\n      <th>237</th>\n      <td>-3.947792</td>\n      <td>-2.652352</td>\n      <td>-2.712513</td>\n      <td>yellow</td>\n    </tr>\n    <tr>\n      <th>238</th>\n      <td>-1.307176</td>\n      <td>-1.746273</td>\n      <td>-3.096693</td>\n      <td>yellow</td>\n    </tr>\n  </tbody>\n</table>\n<p>239 rows × 4 columns</p>\n</div>"
     },
     "execution_count": 7,
     "metadata": {},
     "output_type": "execute_result"
    }
   ],
   "source": [
    "df"
   ]
  },
  {
   "cell_type": "code",
   "execution_count": 8,
   "id": "d9c42816",
   "metadata": {
    "pycharm": {
     "name": "#%%\n"
    }
   },
   "outputs": [
    {
     "data": {
      "text/plain": "            x         y         z   color\n0   -1.391623 -4.028828 -3.932844     red\n1    0.025920  0.727899  0.943035     red\n2   -1.506207 -1.617614 -5.652935     red\n3   -1.481130 -1.088885 -1.685452     red\n4   -1.073461 -2.549874 -1.686836     red\n..        ...       ...       ...     ...\n234 -3.214260  0.036627  0.945533  yellow\n235 -3.118036 -4.137279 -2.579064  yellow\n236 -7.933634 -1.325091 -0.321098  yellow\n237 -3.947792 -2.652352 -2.712513  yellow\n238 -1.307176 -1.746273 -3.096693  yellow\n\n[239 rows x 4 columns]",
      "text/html": "<div>\n<style scoped>\n    .dataframe tbody tr th:only-of-type {\n        vertical-align: middle;\n    }\n\n    .dataframe tbody tr th {\n        vertical-align: top;\n    }\n\n    .dataframe thead th {\n        text-align: right;\n    }\n</style>\n<table border=\"1\" class=\"dataframe\">\n  <thead>\n    <tr style=\"text-align: right;\">\n      <th></th>\n      <th>x</th>\n      <th>y</th>\n      <th>z</th>\n      <th>color</th>\n    </tr>\n  </thead>\n  <tbody>\n    <tr>\n      <th>0</th>\n      <td>-1.391623</td>\n      <td>-4.028828</td>\n      <td>-3.932844</td>\n      <td>red</td>\n    </tr>\n    <tr>\n      <th>1</th>\n      <td>0.025920</td>\n      <td>0.727899</td>\n      <td>0.943035</td>\n      <td>red</td>\n    </tr>\n    <tr>\n      <th>2</th>\n      <td>-1.506207</td>\n      <td>-1.617614</td>\n      <td>-5.652935</td>\n      <td>red</td>\n    </tr>\n    <tr>\n      <th>3</th>\n      <td>-1.481130</td>\n      <td>-1.088885</td>\n      <td>-1.685452</td>\n      <td>red</td>\n    </tr>\n    <tr>\n      <th>4</th>\n      <td>-1.073461</td>\n      <td>-2.549874</td>\n      <td>-1.686836</td>\n      <td>red</td>\n    </tr>\n    <tr>\n      <th>...</th>\n      <td>...</td>\n      <td>...</td>\n      <td>...</td>\n      <td>...</td>\n    </tr>\n    <tr>\n      <th>234</th>\n      <td>-3.214260</td>\n      <td>0.036627</td>\n      <td>0.945533</td>\n      <td>yellow</td>\n    </tr>\n    <tr>\n      <th>235</th>\n      <td>-3.118036</td>\n      <td>-4.137279</td>\n      <td>-2.579064</td>\n      <td>yellow</td>\n    </tr>\n    <tr>\n      <th>236</th>\n      <td>-7.933634</td>\n      <td>-1.325091</td>\n      <td>-0.321098</td>\n      <td>yellow</td>\n    </tr>\n    <tr>\n      <th>237</th>\n      <td>-3.947792</td>\n      <td>-2.652352</td>\n      <td>-2.712513</td>\n      <td>yellow</td>\n    </tr>\n    <tr>\n      <th>238</th>\n      <td>-1.307176</td>\n      <td>-1.746273</td>\n      <td>-3.096693</td>\n      <td>yellow</td>\n    </tr>\n  </tbody>\n</table>\n<p>239 rows × 4 columns</p>\n</div>"
     },
     "execution_count": 8,
     "metadata": {},
     "output_type": "execute_result"
    }
   ],
   "source": [
    "df"
   ]
  },
  {
   "cell_type": "code",
   "execution_count": 8,
   "id": "ffa9d5cf",
   "metadata": {
    "pycharm": {
     "name": "#%%\n"
    }
   },
   "outputs": [],
   "source": []
  }
 ],
 "metadata": {
  "kernelspec": {
   "display_name": "Python 3 (ipykernel)",
   "language": "python",
   "name": "python3"
  },
  "language_info": {
   "codemirror_mode": {
    "name": "ipython",
    "version": 3
   },
   "file_extension": ".py",
   "mimetype": "text/x-python",
   "name": "python",
   "nbconvert_exporter": "python",
   "pygments_lexer": "ipython3",
   "version": "3.10.8"
  }
 },
 "nbformat": 4,
 "nbformat_minor": 5
}